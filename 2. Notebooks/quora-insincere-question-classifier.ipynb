{
 "cells": [
  {
   "cell_type": "code",
   "execution_count": 1,
   "id": "20731a76",
   "metadata": {
    "_cell_guid": "b1076dfc-b9ad-4769-8c92-a6c4dae69d19",
    "_uuid": "8f2839f25d086af736a60e9eeb907d3b93b6e0e5",
    "execution": {
     "iopub.execute_input": "2023-05-23T03:28:24.539694Z",
     "iopub.status.busy": "2023-05-23T03:28:24.539247Z",
     "iopub.status.idle": "2023-05-23T03:28:24.555667Z",
     "shell.execute_reply": "2023-05-23T03:28:24.554508Z"
    },
    "papermill": {
     "duration": 0.025392,
     "end_time": "2023-05-23T03:28:24.558597",
     "exception": false,
     "start_time": "2023-05-23T03:28:24.533205",
     "status": "completed"
    },
    "tags": []
   },
   "outputs": [
    {
     "name": "stdout",
     "output_type": "stream",
     "text": [
      "/kaggle/input/quora-insincere-questions-classification/sample_submission.csv\n",
      "/kaggle/input/quora-insincere-questions-classification/embeddings.zip\n",
      "/kaggle/input/quora-insincere-questions-classification/train.csv\n",
      "/kaggle/input/quora-insincere-questions-classification/test.csv\n"
     ]
    }
   ],
   "source": [
    "# This Python 3 environment comes with many helpful analytics libraries installed\n",
    "# It is defined by the kaggle/python Docker image: https://github.com/kaggle/docker-python\n",
    "# For example, here's several helpful packages to load\n",
    "\n",
    "import numpy as np # linear algebra\n",
    "import pandas as pd # data processing, CSV file I/O (e.g. pd.read_csv)\n",
    "\n",
    "# Input data files are available in the read-only \"../input/\" directory\n",
    "# For example, running this (by clicking run or pressing Shift+Enter) will list all files under the input directory\n",
    "\n",
    "import os\n",
    "for dirname, _, filenames in os.walk('/kaggle/input'):\n",
    "    for filename in filenames:\n",
    "        print(os.path.join(dirname, filename))\n",
    "\n",
    "# You can write up to 20GB to the current directory (/kaggle/working/) that gets preserved as output when you create a version using \"Save & Run All\" \n",
    "# You can also write temporary files to /kaggle/temp/, but they won't be saved outside of the current session"
   ]
  },
  {
   "cell_type": "markdown",
   "id": "a18cadb4",
   "metadata": {
    "papermill": {
     "duration": 0.003218,
     "end_time": "2023-05-23T03:28:24.565634",
     "exception": false,
     "start_time": "2023-05-23T03:28:24.562416",
     "status": "completed"
    },
    "tags": []
   },
   "source": [
    "# **Project: Quora Insincere Question Classifier**\n",
    "---"
   ]
  },
  {
   "cell_type": "markdown",
   "id": "2ee44ab5",
   "metadata": {
    "papermill": {
     "duration": 0.003384,
     "end_time": "2023-05-23T03:28:24.572720",
     "exception": false,
     "start_time": "2023-05-23T03:28:24.569336",
     "status": "completed"
    },
    "tags": []
   },
   "source": [
    "## **Introduction** \n",
    "--- \n",
    "\n",
    "\n"
   ]
  },
  {
   "cell_type": "markdown",
   "id": "5f60a018",
   "metadata": {
    "papermill": {
     "duration": 0.003156,
     "end_time": "2023-05-23T03:28:24.579404",
     "exception": false,
     "start_time": "2023-05-23T03:28:24.576248",
     "status": "completed"
    },
    "tags": []
   },
   "source": [
    "### Background: "
   ]
  },
  {
   "cell_type": "markdown",
   "id": "82122223",
   "metadata": {
    "papermill": {
     "duration": 0.003779,
     "end_time": "2023-05-23T03:28:24.586629",
     "exception": false,
     "start_time": "2023-05-23T03:28:24.582850",
     "status": "completed"
    },
    "tags": []
   },
   "source": [
    "In today's digital age, social platforms have become hubs for information sharing and community engagement. Quora, one such platform, provides users with a platform to ask questions and receive answers from a diverse community. However, as with any open forum, there is a potential for misuse, where users may pose insincere or deceptive questions.\n",
    "\n",
    "The classification of insincere questions is a significant challenge in natural language processing (NLP). It requires the ability to discern the underlying intent and identify questions that may be misleading, inflammatory, or offensive. Accurately detecting and categorizing these insincere questions is crucial to maintaining the quality and credibility of a platform like Quora.\n",
    "\n",
    "In this project, we delve into the task of insincere question classification on Quora, using machine learning and NLP techniques. Our objective is to develop a robust and efficient model that can automatically differentiate between sincere and insincere questions."
   ]
  },
  {
   "cell_type": "markdown",
   "id": "b6c6c9c2",
   "metadata": {
    "papermill": {
     "duration": 0.003206,
     "end_time": "2023-05-23T03:28:24.593421",
     "exception": false,
     "start_time": "2023-05-23T03:28:24.590215",
     "status": "completed"
    },
    "tags": []
   },
   "source": [
    "### Dataset:"
   ]
  },
  {
   "cell_type": "markdown",
   "id": "13e1a684",
   "metadata": {
    "papermill": {
     "duration": 0.003255,
     "end_time": "2023-05-23T03:28:24.600909",
     "exception": false,
     "start_time": "2023-05-23T03:28:24.597654",
     "status": "completed"
    },
    "tags": []
   },
   "source": [
    "For our insincerity quest, we will leverage the Quora Insincere Questions Classification dataset, which is publicly available on Kaggle. This dataset comprises a large collection of questions from Quora, along with corresponding labels indicating whether each question is sincere or insincere. The dataset is annotated by human reviewers, providing valuable ground truth for training and evaluation purposes.\n",
    "\n",
    "Our dataset are divided into training and testing dataset.The data contains the following columns: \n",
    "\n",
    "1. **qid**: This is a unique number for each of the question in our datasets. \n",
    "2. **question_text**: The full text of a Quora question. \n",
    "3. **target**: The label encoding on whether a question is sincere or not. "
   ]
  },
  {
   "cell_type": "markdown",
   "id": "13682051",
   "metadata": {
    "papermill": {
     "duration": 0.003575,
     "end_time": "2023-05-23T03:28:24.607997",
     "exception": false,
     "start_time": "2023-05-23T03:28:24.604422",
     "status": "completed"
    },
    "tags": []
   },
   "source": [
    "### Approachs: "
   ]
  },
  {
   "cell_type": "markdown",
   "id": "ebabff2e",
   "metadata": {
    "papermill": {
     "duration": 0.003393,
     "end_time": "2023-05-23T03:28:24.615127",
     "exception": false,
     "start_time": "2023-05-23T03:28:24.611734",
     "status": "completed"
    },
    "tags": []
   },
   "source": [
    "To tackle this problem, we will adopt a supervised learning approach. We will explore various NLP techniques to build a classification model that can effectively distinguish between sincere and insincere questions. This will involve several key steps:\n",
    "\n",
    "1. Data Collection: The Quora Insincere Questions Classification dataset is collected and downloaded from Kaggle. The dataset will be imported and processed using Google Colab. The data structures and features will be explored to gain a better understanding of the dataset.\n",
    "\n",
    "2. Data Preprocessing: Text data is preprocessed by tokenization, lowercasing, and removal of stop words and punctuation. Techniques like stemming or lemmatization may be applied for further normalization.\n",
    "\n",
    "3. Feature Extraction: The preprocessed text data will be transformed into numerical representations suitable for machine learning algorithms. For this project, we will be using word embeddings, such as Word2Vec or GloVe, to convert the text into dense vector representations that capture semantic relationships between words.\n",
    "\n",
    "4. Model Selection and Training: For this project, we will explore various NLP models suitable for insincere question classification, such as recurrent neural networks (RNNs), convolutional neural networks (CNNs), or transformer models like BERT. These models have shown promising results in NLP tasks and can capture complex patterns and dependencies in text data. We will select the most appropriate model based on its performance on the validation dataset and train it using the labeled training dataset.\n",
    "\n",
    "5. Model Evaluation: The trained NLP model will be evaluated using appropriate evaluation metrics, such as accuracy, precision, recall, and F1-score. The performance of the model will be assessed on the test dataset.\n",
    "\n"
   ]
  }
 ],
 "metadata": {
  "kernelspec": {
   "display_name": "Python 3",
   "language": "python",
   "name": "python3"
  },
  "language_info": {
   "codemirror_mode": {
    "name": "ipython",
    "version": 3
   },
   "file_extension": ".py",
   "mimetype": "text/x-python",
   "name": "python",
   "nbconvert_exporter": "python",
   "pygments_lexer": "ipython3",
   "version": "3.10.10"
  },
  "papermill": {
   "default_parameters": {},
   "duration": 17.072601,
   "end_time": "2023-05-23T03:28:25.644225",
   "environment_variables": {},
   "exception": null,
   "input_path": "__notebook__.ipynb",
   "output_path": "__notebook__.ipynb",
   "parameters": {},
   "start_time": "2023-05-23T03:28:08.571624",
   "version": "2.4.0"
  }
 },
 "nbformat": 4,
 "nbformat_minor": 5
}
