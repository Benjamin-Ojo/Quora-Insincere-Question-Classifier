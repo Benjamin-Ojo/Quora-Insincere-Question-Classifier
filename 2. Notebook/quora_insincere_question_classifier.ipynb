{
  "metadata": {
    "kernelspec": {
      "language": "python",
      "display_name": "Python 3",
      "name": "python3"
    },
    "language_info": {
      "name": "python",
      "version": "3.10.10",
      "mimetype": "text/x-python",
      "codemirror_mode": {
        "name": "ipython",
        "version": 3
      },
      "pygments_lexer": "ipython3",
      "nbconvert_exporter": "python",
      "file_extension": ".py"
    },
    "colab": {
      "provenance": [],
      "include_colab_link": true
    }
  },
  "nbformat_minor": 0,
  "nbformat": 4,
  "cells": [
    {
      "cell_type": "markdown",
      "metadata": {
        "id": "view-in-github",
        "colab_type": "text"
      },
      "source": [
        "<a href=\"https://colab.research.google.com/github/Benjamin-Ojo/Quora-Insincere-Question-Classifier/blob/main/2.%20Notebook/quora_insincere_question_classifier.ipynb\" target=\"_parent\"><img src=\"https://colab.research.google.com/assets/colab-badge.svg\" alt=\"Open In Colab\"/></a>"
      ]
    },
    {
      "cell_type": "markdown",
      "source": [
        "# **Project: Quora Insincere Question Classifier**\n",
        "---"
      ],
      "metadata": {
        "id": "a8yvK-qVHV_E"
      }
    },
    {
      "cell_type": "markdown",
      "source": [
        "# **Introduction** \n",
        "--- \n",
        "\n",
        "\n"
      ],
      "metadata": {
        "id": "tw6sZwmhHV_K"
      }
    },
    {
      "cell_type": "markdown",
      "source": [
        "## Background: "
      ],
      "metadata": {
        "id": "UyICewq0HV_L"
      }
    },
    {
      "cell_type": "markdown",
      "source": [
        "In today's digital age, social platforms have become hubs for information sharing and community engagement. Quora, one such platform, provides users with a platform to ask questions and receive answers from a diverse community. However, as with any open forum, there is a potential for misuse, where users may pose insincere or deceptive questions.\n",
        "\n",
        "The classification of insincere questions is a significant challenge in natural language processing (NLP). It requires the ability to discern the underlying intent and identify questions that may be misleading, inflammatory, or offensive. Accurately detecting and categorizing these insincere questions is crucial to maintaining the quality and credibility of a platform like Quora.\n",
        "\n",
        "In this project, we delve into the task of insincere question classification on Quora, using machine learning and NLP techniques. Our objective is to develop a robust and efficient model that can automatically differentiate between sincere and insincere questions."
      ],
      "metadata": {
        "id": "fqudzesOHV_M"
      }
    },
    {
      "cell_type": "markdown",
      "source": [
        "## Dataset:"
      ],
      "metadata": {
        "id": "YrfmQsCNHV_N"
      }
    },
    {
      "cell_type": "markdown",
      "source": [
        "For our insincerity quest, we will leverage the Quora Insincere Questions Classification dataset, which is publicly available on Kaggle. This dataset comprises a large collection of questions from Quora, along with corresponding labels indicating whether each question is sincere or insincere. The dataset is annotated by human reviewers, providing valuable ground truth for training and evaluation purposes.\n",
        "\n",
        "Our dataset are divided into training and testing dataset.The data contains the following columns: \n",
        "\n",
        "1. **qid**: This is a unique number for each of the question in our datasets. \n",
        "2. **question_text**: The full text of a Quora question. \n",
        "3. **target**: The label encoding on whether a question is sincere or not. "
      ],
      "metadata": {
        "id": "rU_W_4aSHV_O"
      }
    },
    {
      "cell_type": "markdown",
      "source": [
        "## Approachs: "
      ],
      "metadata": {
        "id": "VSHUko1xHV_P"
      }
    },
    {
      "cell_type": "markdown",
      "source": [
        "To tackle this problem, we will adopt a supervised learning approach. We will explore various NLP techniques to build a classification model that can effectively distinguish between sincere and insincere questions. This will involve several key steps:\n",
        "\n",
        "1. Data Collection: The Quora Insincere Questions Classification dataset is collected and downloaded from Kaggle. The dataset will be imported and processed using Google Colab. The data structures and features will be explored to gain a better understanding of the dataset.\n",
        "\n",
        "2. Data Preprocessing: Text data is preprocessed by tokenization, lowercasing, and removal of stop words and punctuation. Techniques like stemming or lemmatization may be applied for further normalization.\n",
        "\n",
        "3. Feature Extraction: The preprocessed text data will be transformed into numerical representations suitable for machine learning algorithms. For this project, we will be using word embeddings, such as Word2Vec or GloVe, to convert the text into dense vector representations that capture semantic relationships between words.\n",
        "\n",
        "4. Model Selection and Training: For this project, we will explore various NLP models suitable for insincere question classification, such as recurrent neural networks (RNNs), convolutional neural networks (CNNs), or transformer models like BERT. These models have shown promising results in NLP tasks and can capture complex patterns and dependencies in text data. We will select the most appropriate model based on its performance on the validation dataset and train it using the labeled training dataset.\n",
        "\n",
        "5. Model Evaluation: The trained NLP model will be evaluated using appropriate evaluation metrics, such as accuracy, precision, recall, and F1-score. The performance of the model will be assessed on the test dataset.\n",
        "\n"
      ],
      "metadata": {
        "id": "VVT3YeePHV_P"
      }
    },
    {
      "cell_type": "markdown",
      "source": [
        "## Importing Packages:"
      ],
      "metadata": {
        "id": "wqc6vkuWHV_R"
      }
    },
    {
      "cell_type": "code",
      "source": [
        "# Data manipution packages. \n",
        "import pandas as pd\n",
        "import numpy as np\n",
        "\n",
        "# Data visualization packages.\n",
        "import matplotlib.pyplot as plt\n",
        "import seaborn as sns\n",
        "\n",
        "# File manager packages.\n",
        "import os\n",
        "import shutil\n",
        "from zipfile import ZipFile\n",
        "from google.colab import files\n",
        "from IPython.display import display\n",
        "\n",
        "# Tensoflow packages.\n",
        "import tensorflow as tf\n",
        "from tensorflow import keras\n",
        "from keras.layers import Flatten, Conv1D, MaxPooling1D, Bidirectional, LSTM, RNN, GRU, Dropout\n",
        "from keras.preprocessing.text import Tokenizer\n",
        "from keras.models import Sequential, Model\n",
        "\n",
        "# Other packages.\n",
        "%matplotlib inline"
      ],
      "metadata": {
        "_kg_hide-input": false,
        "execution": {
          "iopub.status.busy": "2023-05-24T13:43:10.570146Z",
          "iopub.execute_input": "2023-05-24T13:43:10.570721Z",
          "iopub.status.idle": "2023-05-24T13:43:10.582346Z",
          "shell.execute_reply.started": "2023-05-24T13:43:10.570676Z",
          "shell.execute_reply": "2023-05-24T13:43:10.580989Z"
        },
        "trusted": true,
        "id": "d_eOWoDkHV_S"
      },
      "execution_count": 1,
      "outputs": []
    },
    {
      "cell_type": "markdown",
      "source": [
        "# **Data Collecion**\n",
        "---"
      ],
      "metadata": {
        "id": "CEy31oLBHV_V"
      }
    },
    {
      "cell_type": "markdown",
      "source": [
        "For this project we will be working from the kaggle notebook,and since our data is already in our working station we would just be loading our dataset from the kaggle input directory. \n",
        "\n",
        "To download this dataset from kaggle for colab and local system use, i will be providing commented code to help with this."
      ],
      "metadata": {
        "id": "AYJoZmTxHV_W"
      }
    },
    {
      "cell_type": "markdown",
      "source": [
        "## Kaggle Data Import:"
      ],
      "metadata": {
        "id": "NpzsFgpDHV_W"
      }
    },
    {
      "cell_type": "markdown",
      "source": [
        "This commented code below is only for colab notebooks."
      ],
      "metadata": {
        "id": "JqEHxYTmHV_X"
      }
    },
    {
      "cell_type": "code",
      "source": [
        "# Defining data directory.\n",
        "!mkdir '1. Dataset'"
      ],
      "metadata": {
        "id": "gVOwQ1rbJcTx"
      },
      "execution_count": 2,
      "outputs": []
    },
    {
      "cell_type": "code",
      "source": [
        "# Install kaggle api with Pip. \n",
        "!pip install kaggle"
      ],
      "metadata": {
        "execution": {
          "iopub.status.busy": "2023-05-24T13:11:32.229951Z",
          "iopub.execute_input": "2023-05-24T13:11:32.230471Z",
          "iopub.status.idle": "2023-05-24T13:11:32.236433Z",
          "shell.execute_reply.started": "2023-05-24T13:11:32.230436Z",
          "shell.execute_reply": "2023-05-24T13:11:32.235332Z"
        },
        "trusted": true,
        "colab": {
          "base_uri": "https://localhost:8080/"
        },
        "id": "3nmHJhrDHV_X",
        "outputId": "e411b1db-a79a-41dd-f870-d8c0935c9d1a"
      },
      "execution_count": 3,
      "outputs": [
        {
          "output_type": "stream",
          "name": "stdout",
          "text": [
            "Looking in indexes: https://pypi.org/simple, https://us-python.pkg.dev/colab-wheels/public/simple/\n",
            "Requirement already satisfied: kaggle in /usr/local/lib/python3.10/dist-packages (1.5.13)\n",
            "Requirement already satisfied: six>=1.10 in /usr/local/lib/python3.10/dist-packages (from kaggle) (1.16.0)\n",
            "Requirement already satisfied: certifi in /usr/local/lib/python3.10/dist-packages (from kaggle) (2022.12.7)\n",
            "Requirement already satisfied: python-dateutil in /usr/local/lib/python3.10/dist-packages (from kaggle) (2.8.2)\n",
            "Requirement already satisfied: requests in /usr/local/lib/python3.10/dist-packages (from kaggle) (2.27.1)\n",
            "Requirement already satisfied: tqdm in /usr/local/lib/python3.10/dist-packages (from kaggle) (4.65.0)\n",
            "Requirement already satisfied: python-slugify in /usr/local/lib/python3.10/dist-packages (from kaggle) (8.0.1)\n",
            "Requirement already satisfied: urllib3 in /usr/local/lib/python3.10/dist-packages (from kaggle) (1.26.15)\n",
            "Requirement already satisfied: text-unidecode>=1.3 in /usr/local/lib/python3.10/dist-packages (from python-slugify->kaggle) (1.3)\n",
            "Requirement already satisfied: charset-normalizer~=2.0.0 in /usr/local/lib/python3.10/dist-packages (from requests->kaggle) (2.0.12)\n",
            "Requirement already satisfied: idna<4,>=2.5 in /usr/local/lib/python3.10/dist-packages (from requests->kaggle) (3.4)\n"
          ]
        }
      ]
    },
    {
      "cell_type": "code",
      "source": [
        "# Uploading Kaggle api token key.\n",
        "files.upload()"
      ],
      "metadata": {
        "id": "xuApqp3gIEs7"
      },
      "execution_count": null,
      "outputs": []
    },
    {
      "cell_type": "code",
      "source": [
        "# Changing api token location.\n",
        "!mkdir ~/.kaggle\n",
        "!cp kaggle.json ~/.kaggle/\n"
      ],
      "metadata": {
        "id": "FQlixkfIIKfD"
      },
      "execution_count": 5,
      "outputs": []
    },
    {
      "cell_type": "code",
      "source": [
        "# set the appropriate permissions \n",
        "!chmod 600 ~/.kaggle/kaggle.json\n",
        "\n",
        "# verify api key.\n",
        "!kaggle datasets list"
      ],
      "metadata": {
        "colab": {
          "base_uri": "https://localhost:8080/"
        },
        "id": "vws08bD6IRky",
        "outputId": "ed9e355f-2176-4b68-925b-4e856b1131c9"
      },
      "execution_count": 6,
      "outputs": [
        {
          "output_type": "stream",
          "name": "stdout",
          "text": [
            "ref                                                       title                                          size  lastUpdated          downloadCount  voteCount  usabilityRating  \n",
            "--------------------------------------------------------  --------------------------------------------  -----  -------------------  -------------  ---------  ---------------  \n",
            "arnabchaki/data-science-salaries-2023                     Data Science Salaries 2023 💸                   25KB  2023-04-13 09:55:16          20365        567  1.0              \n",
            "fatihb/coffee-quality-data-cqi                            Coffee Quality Data (CQI May-2023)             22KB  2023-05-12 13:06:39           1790         47  1.0              \n",
            "ashpalsingh1525/imdb-movies-dataset                       IMDB movies dataset                             3MB  2023-04-28 23:18:15           2289         47  1.0              \n",
            "iammustafatz/diabetes-prediction-dataset                  Diabetes prediction dataset                   734KB  2023-04-08 06:11:45          10521        154  1.0              \n",
            "utkarshx27/inflation-rate-in-asia                         Inflation Rate in Asia                          3KB  2023-05-13 17:41:29            890         31  1.0              \n",
            "radheshyamkollipara/bank-customer-churn                   Bank Customer Churn                           307KB  2023-04-28 16:32:01           2225         38  1.0              \n",
            "desalegngeb/students-exam-scores                          Students Exam Scores: Extended Dataset        695KB  2023-04-14 00:15:38           8386        164  1.0              \n",
            "chitrakumari25/corona-virus-latest-data-2023              Corona virus latest data 2023                  10KB  2023-04-29 16:00:51           2210         53  1.0              \n",
            "omarsobhy14/university-students-complaints-and-reports    University Students Complaints & Reports📝👨‍🎓   38KB  2023-05-12 19:46:45            786         31  1.0              \n",
            "utkarshx27/starbucks-nutrition                            Starbucks Nutrition Facts                       2KB  2023-05-10 05:42:59           1602         46  1.0              \n",
            "utkarshx27/survey-of-labour-and-income-dynamics           Survey of Labour and Income Dynamics           54KB  2023-05-07 08:00:47            775         24  1.0              \n",
            "rajkumarpandey02/rainfall-in-all-india-dataset-1901-2016  Rainfall in All India Dataset 1901-2016         3KB  2023-05-18 05:45:59            443         30  1.0              \n",
            "faisaljanjua0555/best-video-games-of-all-time             Best Video Games of All Time                   24KB  2023-05-14 19:44:10            931         37  0.7058824        \n",
            "utkarshx27/world-gdp-growth-1980-2028                     World GDP growth 1980-2028                     53KB  2023-05-13 17:54:00            948         31  0.88235295       \n",
            "utkarshx27/global-poverty-and-inequality-dataset          Global poverty and inequality dataset           4MB  2023-05-12 17:25:45            937         32  0.9411765        \n",
            "ursmaheshj/top-10000-popular-movies-tmdb-05-2023          Top 10000 popular Movies TMDB                   2MB  2023-05-09 13:43:53            993         33  1.0              \n",
            "gyaswanth297/world-population-insights-1970-2022          World Population Insights: 1970-2022           16KB  2023-05-16 16:25:59            913         29  0.88235295       \n",
            "sougatapramanick/happiness-index-2018-2019                Happiness Index 2018-2019                      15KB  2023-04-14 12:01:03           4008         65  1.0              \n",
            "utkarshx27/non-alcohol-fatty-liver-disease                Non-alcohol fatty liver disease (NAFLD)         3MB  2023-05-09 11:22:22            885         33  1.0              \n",
            "ahmedshahriarsakib/usa-real-estate-dataset                USA Real Estate Dataset                         2MB  2023-05-18 03:36:35           2599         62  1.0              \n"
          ]
        }
      ]
    },
    {
      "cell_type": "code",
      "source": [
        "# Downloading dataset. \n",
        "!kaggle competitions download 'quora-insincere-questions-classification'"
      ],
      "metadata": {
        "colab": {
          "base_uri": "https://localhost:8080/"
        },
        "id": "Xm1VVDnAIm-s",
        "outputId": "6ac59ea3-606c-49a5-d14e-9d34c4841b26"
      },
      "execution_count": 7,
      "outputs": [
        {
          "output_type": "stream",
          "name": "stdout",
          "text": [
            "Downloading quora-insincere-questions-classification.zip to /content\n",
            "100% 6.03G/6.03G [01:29<00:00, 88.0MB/s]\n",
            "100% 6.03G/6.03G [01:29<00:00, 72.6MB/s]\n"
          ]
        }
      ]
    },
    {
      "cell_type": "code",
      "source": [
        "# Unzip folder. \n",
        "! unzip quora-insincere-questions-classification.zip -d '1. Dataset'"
      ],
      "metadata": {
        "colab": {
          "base_uri": "https://localhost:8080/"
        },
        "id": "Ht5PKjQfLpT9",
        "outputId": "0b051450-0352-41d3-903a-0a11e68018cd"
      },
      "execution_count": 8,
      "outputs": [
        {
          "output_type": "stream",
          "name": "stdout",
          "text": [
            "Archive:  quora-insincere-questions-classification.zip\n",
            "  inflating: 1. Dataset/embeddings.zip  \n",
            "  inflating: 1. Dataset/sample_submission.csv  \n",
            "  inflating: 1. Dataset/test.csv     \n",
            "  inflating: 1. Dataset/train.csv    \n"
          ]
        }
      ]
    },
    {
      "cell_type": "markdown",
      "source": [
        "We will be importing and loading our training, and validation dataset."
      ],
      "metadata": {
        "id": "57iFDWRRHV_Z"
      }
    },
    {
      "cell_type": "code",
      "source": [
        "# Checking input folder. \n",
        "\n",
        "## Defining a path exploral function. \n",
        "\n",
        "def path_exploral(dir_path:str): \n",
        "    for dirname, _, filenames in os.walk(dir_path):\n",
        "        print(f\"Directory name: {dirname}\")\n",
        "        print(f\"File name: {filenames}\\n\")\n",
        "    \n",
        "        for filename in filenames:\n",
        "            print(os.path.join(dirname, filename))\n",
        "        print('\\n\\n')\n",
        "\n",
        "## Checking the input folder. \n",
        "data_dir = '/content/1. Dataset'\n",
        "\n",
        "path_exploral(data_dir)"
      ],
      "metadata": {
        "_uuid": "8f2839f25d086af736a60e9eeb907d3b93b6e0e5",
        "_cell_guid": "b1076dfc-b9ad-4769-8c92-a6c4dae69d19",
        "execution": {
          "iopub.status.busy": "2023-05-24T13:30:51.929163Z",
          "iopub.execute_input": "2023-05-24T13:30:51.929665Z",
          "iopub.status.idle": "2023-05-24T13:30:51.940238Z",
          "shell.execute_reply.started": "2023-05-24T13:30:51.929629Z",
          "shell.execute_reply": "2023-05-24T13:30:51.939030Z"
        },
        "trusted": true,
        "colab": {
          "base_uri": "https://localhost:8080/"
        },
        "id": "XVvv1IA5HV_Z",
        "outputId": "2930e5ff-169f-496c-d98b-667598816c2c"
      },
      "execution_count": 9,
      "outputs": [
        {
          "output_type": "stream",
          "name": "stdout",
          "text": [
            "Directory name: /content/1. Dataset\n",
            "File name: ['sample_submission.csv', 'train.csv', 'test.csv', 'embeddings.zip']\n",
            "\n",
            "/content/1. Dataset/sample_submission.csv\n",
            "/content/1. Dataset/train.csv\n",
            "/content/1. Dataset/test.csv\n",
            "/content/1. Dataset/embeddings.zip\n",
            "\n",
            "\n",
            "\n"
          ]
        }
      ]
    },
    {
      "cell_type": "code",
      "source": [
        "# Unzipping file. \n",
        "\n",
        "## Emebedding zip directory.\n",
        "emb_zip_dir = os.path.join(data_dir,'embeddings.zip' )\n",
        "\n",
        "## Extracting emebedding data file\n",
        "def unzip_folder(source_dir: str, destination_dir: str):\n",
        "    with ZipFile(source_dir) as zip_dir:\n",
        "        zip_dir.extractall(destination_dir)\n",
        "\n",
        "unzip_folder(emb_zip_dir, data_dir)\n",
        "\n",
        "## Checking dataset folder on updated files.\n",
        "path_exploral(data_dir)"
      ],
      "metadata": {
        "execution": {
          "iopub.status.busy": "2023-05-24T14:06:23.095876Z",
          "iopub.execute_input": "2023-05-24T14:06:23.096336Z",
          "iopub.status.idle": "2023-05-24T14:08:35.018616Z",
          "shell.execute_reply.started": "2023-05-24T14:06:23.096304Z",
          "shell.execute_reply": "2023-05-24T14:08:35.016989Z"
        },
        "trusted": true,
        "colab": {
          "base_uri": "https://localhost:8080/"
        },
        "id": "GOE3HFGyHV_d",
        "outputId": "2cb09fd6-4862-4c30-920c-ed73ee28e276"
      },
      "execution_count": 10,
      "outputs": [
        {
          "output_type": "stream",
          "name": "stdout",
          "text": [
            "Directory name: /content/1. Dataset\n",
            "File name: ['sample_submission.csv', 'train.csv', 'test.csv', 'embeddings.zip']\n",
            "\n",
            "/content/1. Dataset/sample_submission.csv\n",
            "/content/1. Dataset/train.csv\n",
            "/content/1. Dataset/test.csv\n",
            "/content/1. Dataset/embeddings.zip\n",
            "\n",
            "\n",
            "\n",
            "Directory name: /content/1. Dataset/paragram_300_sl999\n",
            "File name: ['README.txt', 'paragram_300_sl999.txt']\n",
            "\n",
            "/content/1. Dataset/paragram_300_sl999/README.txt\n",
            "/content/1. Dataset/paragram_300_sl999/paragram_300_sl999.txt\n",
            "\n",
            "\n",
            "\n",
            "Directory name: /content/1. Dataset/wiki-news-300d-1M\n",
            "File name: ['wiki-news-300d-1M.vec']\n",
            "\n",
            "/content/1. Dataset/wiki-news-300d-1M/wiki-news-300d-1M.vec\n",
            "\n",
            "\n",
            "\n",
            "Directory name: /content/1. Dataset/glove.840B.300d\n",
            "File name: ['glove.840B.300d.txt']\n",
            "\n",
            "/content/1. Dataset/glove.840B.300d/glove.840B.300d.txt\n",
            "\n",
            "\n",
            "\n",
            "Directory name: /content/1. Dataset/GoogleNews-vectors-negative300\n",
            "File name: ['GoogleNews-vectors-negative300.bin']\n",
            "\n",
            "/content/1. Dataset/GoogleNews-vectors-negative300/GoogleNews-vectors-negative300.bin\n",
            "\n",
            "\n",
            "\n"
          ]
        }
      ]
    },
    {
      "cell_type": "code",
      "source": [
        "# Deleting all zip files. \n",
        "!rm /content/*.zip\n",
        "!rm /content/1.\\ Dataset/*.zip\n"
      ],
      "metadata": {
        "id": "ZFLMa8CO3WA7"
      },
      "execution_count": 11,
      "outputs": []
    },
    {
      "cell_type": "code",
      "source": [
        "# Checking folder for update.\n",
        "path_exploral(data_dir)"
      ],
      "metadata": {
        "colab": {
          "base_uri": "https://localhost:8080/"
        },
        "id": "1Rr4cljG4qOF",
        "outputId": "1cf5b7bd-c3e1-4dd2-d128-bff8efec54d7"
      },
      "execution_count": 12,
      "outputs": [
        {
          "output_type": "stream",
          "name": "stdout",
          "text": [
            "Directory name: /content/1. Dataset\n",
            "File name: ['sample_submission.csv', 'train.csv', 'test.csv']\n",
            "\n",
            "/content/1. Dataset/sample_submission.csv\n",
            "/content/1. Dataset/train.csv\n",
            "/content/1. Dataset/test.csv\n",
            "\n",
            "\n",
            "\n",
            "Directory name: /content/1. Dataset/paragram_300_sl999\n",
            "File name: ['README.txt', 'paragram_300_sl999.txt']\n",
            "\n",
            "/content/1. Dataset/paragram_300_sl999/README.txt\n",
            "/content/1. Dataset/paragram_300_sl999/paragram_300_sl999.txt\n",
            "\n",
            "\n",
            "\n",
            "Directory name: /content/1. Dataset/wiki-news-300d-1M\n",
            "File name: ['wiki-news-300d-1M.vec']\n",
            "\n",
            "/content/1. Dataset/wiki-news-300d-1M/wiki-news-300d-1M.vec\n",
            "\n",
            "\n",
            "\n",
            "Directory name: /content/1. Dataset/glove.840B.300d\n",
            "File name: ['glove.840B.300d.txt']\n",
            "\n",
            "/content/1. Dataset/glove.840B.300d/glove.840B.300d.txt\n",
            "\n",
            "\n",
            "\n",
            "Directory name: /content/1. Dataset/GoogleNews-vectors-negative300\n",
            "File name: ['GoogleNews-vectors-negative300.bin']\n",
            "\n",
            "/content/1. Dataset/GoogleNews-vectors-negative300/GoogleNews-vectors-negative300.bin\n",
            "\n",
            "\n",
            "\n"
          ]
        }
      ]
    },
    {
      "cell_type": "markdown",
      "source": [
        "## Data import & review:"
      ],
      "metadata": {
        "id": "rnTxg55DHV_Y"
      }
    },
    {
      "cell_type": "code",
      "source": [
        "#  Loading training and testing dataframe.\n",
        "\n",
        "## File directories. \n",
        "train_dir = os.path.join(data_dir, 'train.csv')\n",
        "test_dir = os.path.join(data_dir, 'test.csv')\n",
        "sample_sub_dir = os.path.join(data_dir, 'sample_submission.csv')\n",
        "\n",
        "## Importing files to dataframes.\n",
        "train_df = pd.read_csv(train_dir)\n",
        "test_df = pd.read_csv(test_dir)\n",
        "sample_sub_df = pd.read_csv(sample_sub_dir)\n"
      ],
      "metadata": {
        "id": "7gbabsDe4tE-"
      },
      "execution_count": 13,
      "outputs": []
    },
    {
      "cell_type": "code",
      "source": [
        "# View data.\n",
        "\n",
        "## Training dataset.\n",
        "print(\"\\t\\t\\t##### Training Dataset #####\")\n",
        "display(train_df.head(10))\n",
        "print('\\n\\n')\n",
        "\n",
        "## Testing dataset.\n",
        "print(\"\\t\\t\\t##### Testing Dataset #####\")\n",
        "display(test_df.head(10))\n",
        "print('\\n\\n')\n",
        "\n",
        "## Sample Submission dataset. \n",
        "print(\"\\t\\t\\t##### Sample Submission Dataset #####\")\n",
        "display(sample_sub_df.head(10))\n",
        "print('\\n\\n')"
      ],
      "metadata": {
        "colab": {
          "base_uri": "https://localhost:8080/",
          "height": 1000
        },
        "id": "88GhisrJSA9i",
        "outputId": "90a9178b-635f-4ffa-ae12-625fbc4b86f7"
      },
      "execution_count": 14,
      "outputs": [
        {
          "output_type": "stream",
          "name": "stdout",
          "text": [
            "\t\t\t##### Training Dataset #####\n"
          ]
        },
        {
          "output_type": "display_data",
          "data": {
            "text/plain": [
              "                    qid                                      question_text  \\\n",
              "0  00002165364db923c7e6  How did Quebec nationalists see their province...   \n",
              "1  000032939017120e6e44  Do you have an adopted dog, how would you enco...   \n",
              "2  0000412ca6e4628ce2cf  Why does velocity affect time? Does velocity a...   \n",
              "3  000042bf85aa498cd78e  How did Otto von Guericke used the Magdeburg h...   \n",
              "4  0000455dfa3e01eae3af  Can I convert montra helicon D to a mountain b...   \n",
              "5  00004f9a462a357c33be  Is Gaza slowly becoming Auschwitz, Dachau or T...   \n",
              "6  00005059a06ee19e11ad  Why does Quora automatically ban conservative ...   \n",
              "7  0000559f875832745e2e  Is it crazy if I wash or wipe my groceries off...   \n",
              "8  00005bd3426b2d0c8305  Is there such a thing as dressing moderately, ...   \n",
              "9  00006e6928c5df60eacb  Is it just me or have you ever been in this ph...   \n",
              "\n",
              "   target  \n",
              "0       0  \n",
              "1       0  \n",
              "2       0  \n",
              "3       0  \n",
              "4       0  \n",
              "5       0  \n",
              "6       0  \n",
              "7       0  \n",
              "8       0  \n",
              "9       0  "
            ],
            "text/html": [
              "\n",
              "  <div id=\"df-26ce0f65-7280-4203-a7c1-fb8a936da44b\">\n",
              "    <div class=\"colab-df-container\">\n",
              "      <div>\n",
              "<style scoped>\n",
              "    .dataframe tbody tr th:only-of-type {\n",
              "        vertical-align: middle;\n",
              "    }\n",
              "\n",
              "    .dataframe tbody tr th {\n",
              "        vertical-align: top;\n",
              "    }\n",
              "\n",
              "    .dataframe thead th {\n",
              "        text-align: right;\n",
              "    }\n",
              "</style>\n",
              "<table border=\"1\" class=\"dataframe\">\n",
              "  <thead>\n",
              "    <tr style=\"text-align: right;\">\n",
              "      <th></th>\n",
              "      <th>qid</th>\n",
              "      <th>question_text</th>\n",
              "      <th>target</th>\n",
              "    </tr>\n",
              "  </thead>\n",
              "  <tbody>\n",
              "    <tr>\n",
              "      <th>0</th>\n",
              "      <td>00002165364db923c7e6</td>\n",
              "      <td>How did Quebec nationalists see their province...</td>\n",
              "      <td>0</td>\n",
              "    </tr>\n",
              "    <tr>\n",
              "      <th>1</th>\n",
              "      <td>000032939017120e6e44</td>\n",
              "      <td>Do you have an adopted dog, how would you enco...</td>\n",
              "      <td>0</td>\n",
              "    </tr>\n",
              "    <tr>\n",
              "      <th>2</th>\n",
              "      <td>0000412ca6e4628ce2cf</td>\n",
              "      <td>Why does velocity affect time? Does velocity a...</td>\n",
              "      <td>0</td>\n",
              "    </tr>\n",
              "    <tr>\n",
              "      <th>3</th>\n",
              "      <td>000042bf85aa498cd78e</td>\n",
              "      <td>How did Otto von Guericke used the Magdeburg h...</td>\n",
              "      <td>0</td>\n",
              "    </tr>\n",
              "    <tr>\n",
              "      <th>4</th>\n",
              "      <td>0000455dfa3e01eae3af</td>\n",
              "      <td>Can I convert montra helicon D to a mountain b...</td>\n",
              "      <td>0</td>\n",
              "    </tr>\n",
              "    <tr>\n",
              "      <th>5</th>\n",
              "      <td>00004f9a462a357c33be</td>\n",
              "      <td>Is Gaza slowly becoming Auschwitz, Dachau or T...</td>\n",
              "      <td>0</td>\n",
              "    </tr>\n",
              "    <tr>\n",
              "      <th>6</th>\n",
              "      <td>00005059a06ee19e11ad</td>\n",
              "      <td>Why does Quora automatically ban conservative ...</td>\n",
              "      <td>0</td>\n",
              "    </tr>\n",
              "    <tr>\n",
              "      <th>7</th>\n",
              "      <td>0000559f875832745e2e</td>\n",
              "      <td>Is it crazy if I wash or wipe my groceries off...</td>\n",
              "      <td>0</td>\n",
              "    </tr>\n",
              "    <tr>\n",
              "      <th>8</th>\n",
              "      <td>00005bd3426b2d0c8305</td>\n",
              "      <td>Is there such a thing as dressing moderately, ...</td>\n",
              "      <td>0</td>\n",
              "    </tr>\n",
              "    <tr>\n",
              "      <th>9</th>\n",
              "      <td>00006e6928c5df60eacb</td>\n",
              "      <td>Is it just me or have you ever been in this ph...</td>\n",
              "      <td>0</td>\n",
              "    </tr>\n",
              "  </tbody>\n",
              "</table>\n",
              "</div>\n",
              "      <button class=\"colab-df-convert\" onclick=\"convertToInteractive('df-26ce0f65-7280-4203-a7c1-fb8a936da44b')\"\n",
              "              title=\"Convert this dataframe to an interactive table.\"\n",
              "              style=\"display:none;\">\n",
              "        \n",
              "  <svg xmlns=\"http://www.w3.org/2000/svg\" height=\"24px\"viewBox=\"0 0 24 24\"\n",
              "       width=\"24px\">\n",
              "    <path d=\"M0 0h24v24H0V0z\" fill=\"none\"/>\n",
              "    <path d=\"M18.56 5.44l.94 2.06.94-2.06 2.06-.94-2.06-.94-.94-2.06-.94 2.06-2.06.94zm-11 1L8.5 8.5l.94-2.06 2.06-.94-2.06-.94L8.5 2.5l-.94 2.06-2.06.94zm10 10l.94 2.06.94-2.06 2.06-.94-2.06-.94-.94-2.06-.94 2.06-2.06.94z\"/><path d=\"M17.41 7.96l-1.37-1.37c-.4-.4-.92-.59-1.43-.59-.52 0-1.04.2-1.43.59L10.3 9.45l-7.72 7.72c-.78.78-.78 2.05 0 2.83L4 21.41c.39.39.9.59 1.41.59.51 0 1.02-.2 1.41-.59l7.78-7.78 2.81-2.81c.8-.78.8-2.07 0-2.86zM5.41 20L4 18.59l7.72-7.72 1.47 1.35L5.41 20z\"/>\n",
              "  </svg>\n",
              "      </button>\n",
              "      \n",
              "  <style>\n",
              "    .colab-df-container {\n",
              "      display:flex;\n",
              "      flex-wrap:wrap;\n",
              "      gap: 12px;\n",
              "    }\n",
              "\n",
              "    .colab-df-convert {\n",
              "      background-color: #E8F0FE;\n",
              "      border: none;\n",
              "      border-radius: 50%;\n",
              "      cursor: pointer;\n",
              "      display: none;\n",
              "      fill: #1967D2;\n",
              "      height: 32px;\n",
              "      padding: 0 0 0 0;\n",
              "      width: 32px;\n",
              "    }\n",
              "\n",
              "    .colab-df-convert:hover {\n",
              "      background-color: #E2EBFA;\n",
              "      box-shadow: 0px 1px 2px rgba(60, 64, 67, 0.3), 0px 1px 3px 1px rgba(60, 64, 67, 0.15);\n",
              "      fill: #174EA6;\n",
              "    }\n",
              "\n",
              "    [theme=dark] .colab-df-convert {\n",
              "      background-color: #3B4455;\n",
              "      fill: #D2E3FC;\n",
              "    }\n",
              "\n",
              "    [theme=dark] .colab-df-convert:hover {\n",
              "      background-color: #434B5C;\n",
              "      box-shadow: 0px 1px 3px 1px rgba(0, 0, 0, 0.15);\n",
              "      filter: drop-shadow(0px 1px 2px rgba(0, 0, 0, 0.3));\n",
              "      fill: #FFFFFF;\n",
              "    }\n",
              "  </style>\n",
              "\n",
              "      <script>\n",
              "        const buttonEl =\n",
              "          document.querySelector('#df-26ce0f65-7280-4203-a7c1-fb8a936da44b button.colab-df-convert');\n",
              "        buttonEl.style.display =\n",
              "          google.colab.kernel.accessAllowed ? 'block' : 'none';\n",
              "\n",
              "        async function convertToInteractive(key) {\n",
              "          const element = document.querySelector('#df-26ce0f65-7280-4203-a7c1-fb8a936da44b');\n",
              "          const dataTable =\n",
              "            await google.colab.kernel.invokeFunction('convertToInteractive',\n",
              "                                                     [key], {});\n",
              "          if (!dataTable) return;\n",
              "\n",
              "          const docLinkHtml = 'Like what you see? Visit the ' +\n",
              "            '<a target=\"_blank\" href=https://colab.research.google.com/notebooks/data_table.ipynb>data table notebook</a>'\n",
              "            + ' to learn more about interactive tables.';\n",
              "          element.innerHTML = '';\n",
              "          dataTable['output_type'] = 'display_data';\n",
              "          await google.colab.output.renderOutput(dataTable, element);\n",
              "          const docLink = document.createElement('div');\n",
              "          docLink.innerHTML = docLinkHtml;\n",
              "          element.appendChild(docLink);\n",
              "        }\n",
              "      </script>\n",
              "    </div>\n",
              "  </div>\n",
              "  "
            ]
          },
          "metadata": {}
        },
        {
          "output_type": "stream",
          "name": "stdout",
          "text": [
            "\n",
            "\n",
            "\n",
            "\t\t\t##### Testing Dataset #####\n"
          ]
        },
        {
          "output_type": "display_data",
          "data": {
            "text/plain": [
              "                    qid                                      question_text\n",
              "0  0000163e3ea7c7a74cd7  Why do so many women become so rude and arroga...\n",
              "1  00002bd4fb5d505b9161  When should I apply for RV college of engineer...\n",
              "2  00007756b4a147d2b0b3  What is it really like to be a nurse practitio...\n",
              "3  000086e4b7e1c7146103                             Who are entrepreneurs?\n",
              "4  0000c4c3fbe8785a3090   Is education really making good people nowadays?\n",
              "5  000101884c19f3515c1a        How do you train a pigeon to send messages?\n",
              "6  00010f62537781f44a47                  What is the currency in Langkawi?\n",
              "7  00012afbd27452239059  What is the future for Pandora, can the busine...\n",
              "8  00014894849d00ba98a9  My voice range is A2-C5. My chest voice goes u...\n",
              "9  000156468431f09b3cae           How much does a tutor earn in Bangalore?"
            ],
            "text/html": [
              "\n",
              "  <div id=\"df-dc486039-83d3-4780-a5e3-217e2afd30f4\">\n",
              "    <div class=\"colab-df-container\">\n",
              "      <div>\n",
              "<style scoped>\n",
              "    .dataframe tbody tr th:only-of-type {\n",
              "        vertical-align: middle;\n",
              "    }\n",
              "\n",
              "    .dataframe tbody tr th {\n",
              "        vertical-align: top;\n",
              "    }\n",
              "\n",
              "    .dataframe thead th {\n",
              "        text-align: right;\n",
              "    }\n",
              "</style>\n",
              "<table border=\"1\" class=\"dataframe\">\n",
              "  <thead>\n",
              "    <tr style=\"text-align: right;\">\n",
              "      <th></th>\n",
              "      <th>qid</th>\n",
              "      <th>question_text</th>\n",
              "    </tr>\n",
              "  </thead>\n",
              "  <tbody>\n",
              "    <tr>\n",
              "      <th>0</th>\n",
              "      <td>0000163e3ea7c7a74cd7</td>\n",
              "      <td>Why do so many women become so rude and arroga...</td>\n",
              "    </tr>\n",
              "    <tr>\n",
              "      <th>1</th>\n",
              "      <td>00002bd4fb5d505b9161</td>\n",
              "      <td>When should I apply for RV college of engineer...</td>\n",
              "    </tr>\n",
              "    <tr>\n",
              "      <th>2</th>\n",
              "      <td>00007756b4a147d2b0b3</td>\n",
              "      <td>What is it really like to be a nurse practitio...</td>\n",
              "    </tr>\n",
              "    <tr>\n",
              "      <th>3</th>\n",
              "      <td>000086e4b7e1c7146103</td>\n",
              "      <td>Who are entrepreneurs?</td>\n",
              "    </tr>\n",
              "    <tr>\n",
              "      <th>4</th>\n",
              "      <td>0000c4c3fbe8785a3090</td>\n",
              "      <td>Is education really making good people nowadays?</td>\n",
              "    </tr>\n",
              "    <tr>\n",
              "      <th>5</th>\n",
              "      <td>000101884c19f3515c1a</td>\n",
              "      <td>How do you train a pigeon to send messages?</td>\n",
              "    </tr>\n",
              "    <tr>\n",
              "      <th>6</th>\n",
              "      <td>00010f62537781f44a47</td>\n",
              "      <td>What is the currency in Langkawi?</td>\n",
              "    </tr>\n",
              "    <tr>\n",
              "      <th>7</th>\n",
              "      <td>00012afbd27452239059</td>\n",
              "      <td>What is the future for Pandora, can the busine...</td>\n",
              "    </tr>\n",
              "    <tr>\n",
              "      <th>8</th>\n",
              "      <td>00014894849d00ba98a9</td>\n",
              "      <td>My voice range is A2-C5. My chest voice goes u...</td>\n",
              "    </tr>\n",
              "    <tr>\n",
              "      <th>9</th>\n",
              "      <td>000156468431f09b3cae</td>\n",
              "      <td>How much does a tutor earn in Bangalore?</td>\n",
              "    </tr>\n",
              "  </tbody>\n",
              "</table>\n",
              "</div>\n",
              "      <button class=\"colab-df-convert\" onclick=\"convertToInteractive('df-dc486039-83d3-4780-a5e3-217e2afd30f4')\"\n",
              "              title=\"Convert this dataframe to an interactive table.\"\n",
              "              style=\"display:none;\">\n",
              "        \n",
              "  <svg xmlns=\"http://www.w3.org/2000/svg\" height=\"24px\"viewBox=\"0 0 24 24\"\n",
              "       width=\"24px\">\n",
              "    <path d=\"M0 0h24v24H0V0z\" fill=\"none\"/>\n",
              "    <path d=\"M18.56 5.44l.94 2.06.94-2.06 2.06-.94-2.06-.94-.94-2.06-.94 2.06-2.06.94zm-11 1L8.5 8.5l.94-2.06 2.06-.94-2.06-.94L8.5 2.5l-.94 2.06-2.06.94zm10 10l.94 2.06.94-2.06 2.06-.94-2.06-.94-.94-2.06-.94 2.06-2.06.94z\"/><path d=\"M17.41 7.96l-1.37-1.37c-.4-.4-.92-.59-1.43-.59-.52 0-1.04.2-1.43.59L10.3 9.45l-7.72 7.72c-.78.78-.78 2.05 0 2.83L4 21.41c.39.39.9.59 1.41.59.51 0 1.02-.2 1.41-.59l7.78-7.78 2.81-2.81c.8-.78.8-2.07 0-2.86zM5.41 20L4 18.59l7.72-7.72 1.47 1.35L5.41 20z\"/>\n",
              "  </svg>\n",
              "      </button>\n",
              "      \n",
              "  <style>\n",
              "    .colab-df-container {\n",
              "      display:flex;\n",
              "      flex-wrap:wrap;\n",
              "      gap: 12px;\n",
              "    }\n",
              "\n",
              "    .colab-df-convert {\n",
              "      background-color: #E8F0FE;\n",
              "      border: none;\n",
              "      border-radius: 50%;\n",
              "      cursor: pointer;\n",
              "      display: none;\n",
              "      fill: #1967D2;\n",
              "      height: 32px;\n",
              "      padding: 0 0 0 0;\n",
              "      width: 32px;\n",
              "    }\n",
              "\n",
              "    .colab-df-convert:hover {\n",
              "      background-color: #E2EBFA;\n",
              "      box-shadow: 0px 1px 2px rgba(60, 64, 67, 0.3), 0px 1px 3px 1px rgba(60, 64, 67, 0.15);\n",
              "      fill: #174EA6;\n",
              "    }\n",
              "\n",
              "    [theme=dark] .colab-df-convert {\n",
              "      background-color: #3B4455;\n",
              "      fill: #D2E3FC;\n",
              "    }\n",
              "\n",
              "    [theme=dark] .colab-df-convert:hover {\n",
              "      background-color: #434B5C;\n",
              "      box-shadow: 0px 1px 3px 1px rgba(0, 0, 0, 0.15);\n",
              "      filter: drop-shadow(0px 1px 2px rgba(0, 0, 0, 0.3));\n",
              "      fill: #FFFFFF;\n",
              "    }\n",
              "  </style>\n",
              "\n",
              "      <script>\n",
              "        const buttonEl =\n",
              "          document.querySelector('#df-dc486039-83d3-4780-a5e3-217e2afd30f4 button.colab-df-convert');\n",
              "        buttonEl.style.display =\n",
              "          google.colab.kernel.accessAllowed ? 'block' : 'none';\n",
              "\n",
              "        async function convertToInteractive(key) {\n",
              "          const element = document.querySelector('#df-dc486039-83d3-4780-a5e3-217e2afd30f4');\n",
              "          const dataTable =\n",
              "            await google.colab.kernel.invokeFunction('convertToInteractive',\n",
              "                                                     [key], {});\n",
              "          if (!dataTable) return;\n",
              "\n",
              "          const docLinkHtml = 'Like what you see? Visit the ' +\n",
              "            '<a target=\"_blank\" href=https://colab.research.google.com/notebooks/data_table.ipynb>data table notebook</a>'\n",
              "            + ' to learn more about interactive tables.';\n",
              "          element.innerHTML = '';\n",
              "          dataTable['output_type'] = 'display_data';\n",
              "          await google.colab.output.renderOutput(dataTable, element);\n",
              "          const docLink = document.createElement('div');\n",
              "          docLink.innerHTML = docLinkHtml;\n",
              "          element.appendChild(docLink);\n",
              "        }\n",
              "      </script>\n",
              "    </div>\n",
              "  </div>\n",
              "  "
            ]
          },
          "metadata": {}
        },
        {
          "output_type": "stream",
          "name": "stdout",
          "text": [
            "\n",
            "\n",
            "\n",
            "\t\t\t##### Sample Submission Dataset #####\n"
          ]
        },
        {
          "output_type": "display_data",
          "data": {
            "text/plain": [
              "                    qid  prediction\n",
              "0  0000163e3ea7c7a74cd7           0\n",
              "1  00002bd4fb5d505b9161           0\n",
              "2  00007756b4a147d2b0b3           0\n",
              "3  000086e4b7e1c7146103           0\n",
              "4  0000c4c3fbe8785a3090           0\n",
              "5  000101884c19f3515c1a           0\n",
              "6  00010f62537781f44a47           0\n",
              "7  00012afbd27452239059           0\n",
              "8  00014894849d00ba98a9           0\n",
              "9  000156468431f09b3cae           0"
            ],
            "text/html": [
              "\n",
              "  <div id=\"df-48746d72-6296-4eda-bab8-3a378f40e29d\">\n",
              "    <div class=\"colab-df-container\">\n",
              "      <div>\n",
              "<style scoped>\n",
              "    .dataframe tbody tr th:only-of-type {\n",
              "        vertical-align: middle;\n",
              "    }\n",
              "\n",
              "    .dataframe tbody tr th {\n",
              "        vertical-align: top;\n",
              "    }\n",
              "\n",
              "    .dataframe thead th {\n",
              "        text-align: right;\n",
              "    }\n",
              "</style>\n",
              "<table border=\"1\" class=\"dataframe\">\n",
              "  <thead>\n",
              "    <tr style=\"text-align: right;\">\n",
              "      <th></th>\n",
              "      <th>qid</th>\n",
              "      <th>prediction</th>\n",
              "    </tr>\n",
              "  </thead>\n",
              "  <tbody>\n",
              "    <tr>\n",
              "      <th>0</th>\n",
              "      <td>0000163e3ea7c7a74cd7</td>\n",
              "      <td>0</td>\n",
              "    </tr>\n",
              "    <tr>\n",
              "      <th>1</th>\n",
              "      <td>00002bd4fb5d505b9161</td>\n",
              "      <td>0</td>\n",
              "    </tr>\n",
              "    <tr>\n",
              "      <th>2</th>\n",
              "      <td>00007756b4a147d2b0b3</td>\n",
              "      <td>0</td>\n",
              "    </tr>\n",
              "    <tr>\n",
              "      <th>3</th>\n",
              "      <td>000086e4b7e1c7146103</td>\n",
              "      <td>0</td>\n",
              "    </tr>\n",
              "    <tr>\n",
              "      <th>4</th>\n",
              "      <td>0000c4c3fbe8785a3090</td>\n",
              "      <td>0</td>\n",
              "    </tr>\n",
              "    <tr>\n",
              "      <th>5</th>\n",
              "      <td>000101884c19f3515c1a</td>\n",
              "      <td>0</td>\n",
              "    </tr>\n",
              "    <tr>\n",
              "      <th>6</th>\n",
              "      <td>00010f62537781f44a47</td>\n",
              "      <td>0</td>\n",
              "    </tr>\n",
              "    <tr>\n",
              "      <th>7</th>\n",
              "      <td>00012afbd27452239059</td>\n",
              "      <td>0</td>\n",
              "    </tr>\n",
              "    <tr>\n",
              "      <th>8</th>\n",
              "      <td>00014894849d00ba98a9</td>\n",
              "      <td>0</td>\n",
              "    </tr>\n",
              "    <tr>\n",
              "      <th>9</th>\n",
              "      <td>000156468431f09b3cae</td>\n",
              "      <td>0</td>\n",
              "    </tr>\n",
              "  </tbody>\n",
              "</table>\n",
              "</div>\n",
              "      <button class=\"colab-df-convert\" onclick=\"convertToInteractive('df-48746d72-6296-4eda-bab8-3a378f40e29d')\"\n",
              "              title=\"Convert this dataframe to an interactive table.\"\n",
              "              style=\"display:none;\">\n",
              "        \n",
              "  <svg xmlns=\"http://www.w3.org/2000/svg\" height=\"24px\"viewBox=\"0 0 24 24\"\n",
              "       width=\"24px\">\n",
              "    <path d=\"M0 0h24v24H0V0z\" fill=\"none\"/>\n",
              "    <path d=\"M18.56 5.44l.94 2.06.94-2.06 2.06-.94-2.06-.94-.94-2.06-.94 2.06-2.06.94zm-11 1L8.5 8.5l.94-2.06 2.06-.94-2.06-.94L8.5 2.5l-.94 2.06-2.06.94zm10 10l.94 2.06.94-2.06 2.06-.94-2.06-.94-.94-2.06-.94 2.06-2.06.94z\"/><path d=\"M17.41 7.96l-1.37-1.37c-.4-.4-.92-.59-1.43-.59-.52 0-1.04.2-1.43.59L10.3 9.45l-7.72 7.72c-.78.78-.78 2.05 0 2.83L4 21.41c.39.39.9.59 1.41.59.51 0 1.02-.2 1.41-.59l7.78-7.78 2.81-2.81c.8-.78.8-2.07 0-2.86zM5.41 20L4 18.59l7.72-7.72 1.47 1.35L5.41 20z\"/>\n",
              "  </svg>\n",
              "      </button>\n",
              "      \n",
              "  <style>\n",
              "    .colab-df-container {\n",
              "      display:flex;\n",
              "      flex-wrap:wrap;\n",
              "      gap: 12px;\n",
              "    }\n",
              "\n",
              "    .colab-df-convert {\n",
              "      background-color: #E8F0FE;\n",
              "      border: none;\n",
              "      border-radius: 50%;\n",
              "      cursor: pointer;\n",
              "      display: none;\n",
              "      fill: #1967D2;\n",
              "      height: 32px;\n",
              "      padding: 0 0 0 0;\n",
              "      width: 32px;\n",
              "    }\n",
              "\n",
              "    .colab-df-convert:hover {\n",
              "      background-color: #E2EBFA;\n",
              "      box-shadow: 0px 1px 2px rgba(60, 64, 67, 0.3), 0px 1px 3px 1px rgba(60, 64, 67, 0.15);\n",
              "      fill: #174EA6;\n",
              "    }\n",
              "\n",
              "    [theme=dark] .colab-df-convert {\n",
              "      background-color: #3B4455;\n",
              "      fill: #D2E3FC;\n",
              "    }\n",
              "\n",
              "    [theme=dark] .colab-df-convert:hover {\n",
              "      background-color: #434B5C;\n",
              "      box-shadow: 0px 1px 3px 1px rgba(0, 0, 0, 0.15);\n",
              "      filter: drop-shadow(0px 1px 2px rgba(0, 0, 0, 0.3));\n",
              "      fill: #FFFFFF;\n",
              "    }\n",
              "  </style>\n",
              "\n",
              "      <script>\n",
              "        const buttonEl =\n",
              "          document.querySelector('#df-48746d72-6296-4eda-bab8-3a378f40e29d button.colab-df-convert');\n",
              "        buttonEl.style.display =\n",
              "          google.colab.kernel.accessAllowed ? 'block' : 'none';\n",
              "\n",
              "        async function convertToInteractive(key) {\n",
              "          const element = document.querySelector('#df-48746d72-6296-4eda-bab8-3a378f40e29d');\n",
              "          const dataTable =\n",
              "            await google.colab.kernel.invokeFunction('convertToInteractive',\n",
              "                                                     [key], {});\n",
              "          if (!dataTable) return;\n",
              "\n",
              "          const docLinkHtml = 'Like what you see? Visit the ' +\n",
              "            '<a target=\"_blank\" href=https://colab.research.google.com/notebooks/data_table.ipynb>data table notebook</a>'\n",
              "            + ' to learn more about interactive tables.';\n",
              "          element.innerHTML = '';\n",
              "          dataTable['output_type'] = 'display_data';\n",
              "          await google.colab.output.renderOutput(dataTable, element);\n",
              "          const docLink = document.createElement('div');\n",
              "          docLink.innerHTML = docLinkHtml;\n",
              "          element.appendChild(docLink);\n",
              "        }\n",
              "      </script>\n",
              "    </div>\n",
              "  </div>\n",
              "  "
            ]
          },
          "metadata": {}
        },
        {
          "output_type": "stream",
          "name": "stdout",
          "text": [
            "\n",
            "\n",
            "\n"
          ]
        }
      ]
    },
    {
      "cell_type": "code",
      "source": [
        "# Data structure\n",
        "\n",
        "## Data columns. \n",
        "print(\"\\t\\t---------> Dataset Columns <---------\")\n",
        "print(f\"Training Columns: \\n\\t{train_df.columns}\\n\")\n",
        "print(f\"Testing Columns: \\n\\t{test_df.columns}\\n\\n\")\n",
        "\n",
        "## Data Shape.\n",
        "print(\"\\t\\t---------> Data Shape <---------\")\n",
        "print(f\"Train data Shape: \\n\\tRows -> {train_df.shape[0]} \\n\\tColumns -> {train_df.shape[1]}\\n\")\n",
        "print(f\"Train data Shape: \\n\\tRows -> {test_df.shape[0]} \\n\\tColumns -> {test_df.shape[1]}\\n\\n\")\n",
        "\n",
        "## Null data. \n",
        "print(\"\\t\\t---------> Null Data <---------\")\n",
        "print(f\"Number of train data null values: \\n{train_df.isnull().sum()}\\n\")\n",
        "print(f\"Number of test data null values: \\n{test_df.isnull().sum()}\\n\\n\")\n",
        "\n",
        "## Data info\n",
        "print(\"\\t\\t---------> Data Info <---------\")\n",
        "print(f\"Train data info: \\n{train_df.info()}\\n\")\n",
        "print(f\"Test data info: \\n{test_df.info()}\\n\\n\")"
      ],
      "metadata": {
        "colab": {
          "base_uri": "https://localhost:8080/"
        },
        "id": "FLdkznncxQRq",
        "outputId": "8dfd5fc5-30c4-4c97-b25f-8653a4aa79f4"
      },
      "execution_count": 20,
      "outputs": [
        {
          "output_type": "stream",
          "name": "stdout",
          "text": [
            "\t\t---------> Dataset Columns <---------\n",
            "Training Columns: \n",
            "\tIndex(['qid', 'question_text', 'target'], dtype='object')\n",
            "\n",
            "Testing Columns: \n",
            "\tIndex(['qid', 'question_text'], dtype='object')\n",
            "\n",
            "\n",
            "\t\t---------> Data Shape <---------\n",
            "Train data Shape: \n",
            "\tRows -> 1306122 \n",
            "\tColumns -> 3\n",
            "\n",
            "Train data Shape: \n",
            "\tRows -> 375806 \n",
            "\tColumns -> 2\n",
            "\n",
            "\n",
            "\t\t---------> Null Data <---------\n",
            "Number of train data null values: \n",
            "qid              0\n",
            "question_text    0\n",
            "target           0\n",
            "dtype: int64\n",
            "\n",
            "Number of test data null values: \n",
            "qid              0\n",
            "question_text    0\n",
            "dtype: int64\n",
            "\n",
            "\n",
            "\t\t---------> Data Info <---------\n",
            "<class 'pandas.core.frame.DataFrame'>\n",
            "RangeIndex: 1306122 entries, 0 to 1306121\n",
            "Data columns (total 3 columns):\n",
            " #   Column         Non-Null Count    Dtype \n",
            "---  ------         --------------    ----- \n",
            " 0   qid            1306122 non-null  object\n",
            " 1   question_text  1306122 non-null  object\n",
            " 2   target         1306122 non-null  int64 \n",
            "dtypes: int64(1), object(2)\n",
            "memory usage: 29.9+ MB\n",
            "Train data info: \n",
            "None\n",
            "\n",
            "<class 'pandas.core.frame.DataFrame'>\n",
            "RangeIndex: 375806 entries, 0 to 375805\n",
            "Data columns (total 2 columns):\n",
            " #   Column         Non-Null Count   Dtype \n",
            "---  ------         --------------   ----- \n",
            " 0   qid            375806 non-null  object\n",
            " 1   question_text  375806 non-null  object\n",
            "dtypes: object(2)\n",
            "memory usage: 5.7+ MB\n",
            "Test data info: \n",
            "None\n",
            "\n",
            "\n"
          ]
        }
      ]
    },
    {
      "cell_type": "markdown",
      "source": [
        "# **Data Preprocessing**\n",
        "---"
      ],
      "metadata": {
        "id": "aXbdLGd6w_82"
      }
    },
    {
      "cell_type": "markdown",
      "source": [
        "For this phase of our project we will be processing our data & importing our pretrained tokenizer. \n",
        "\n",
        "I will be using the glove pretrained tokenizer for our word converter to vectors. The tokenizer was provided with our dataset and we will be making use of this provided verstion. "
      ],
      "metadata": {
        "id": "WXdrd8JlxKMW"
      }
    },
    {
      "cell_type": "markdown",
      "source": [
        "## Loading Tokenizer: "
      ],
      "metadata": {
        "id": "jAntsLD607Mu"
      }
    },
    {
      "cell_type": "code",
      "source": [
        "# Embedding directory.\n",
        "glov_dir = os.path.join(data_dir, 'glove.840b.300d/glove.840b.300d.txt')"
      ],
      "metadata": {
        "id": "Fbx40GZ21Ep2"
      },
      "execution_count": null,
      "outputs": []
    },
    {
      "cell_type": "code",
      "source": [
        "\n",
        "from nltk.tokenize import word_tokenize\n",
        "from gensim.models import KeyedVectors\n",
        "\n",
        "# Download the GloVe pretrained word vectors\n",
        "nltk.download('glove.6B.100d')\n",
        "\n",
        "# Load the GloVe pretrained word vectors\n",
        "glove_vectors = KeyedVectors.load_word2vec_format('glove.6B.100d.txt', binary=False)\n",
        "\n",
        "# Tokenize a sentence\n",
        "sentence = \"Hello, how are you?\"\n",
        "tokens = word_tokenize(sentence)\n",
        "\n",
        "print(tokens)\n"
      ],
      "metadata": {
        "id": "R-nIYxPAxJes"
      },
      "execution_count": null,
      "outputs": []
    }
  ]
}