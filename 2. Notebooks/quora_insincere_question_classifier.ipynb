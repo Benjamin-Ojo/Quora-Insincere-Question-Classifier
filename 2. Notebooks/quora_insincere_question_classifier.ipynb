{
  "cells": [
    {
      "cell_type": "markdown",
      "metadata": {
        "id": "view-in-github",
        "colab_type": "text"
      },
      "source": [
        "<a href=\"https://colab.research.google.com/github/Benjamin-Ojo/Quora-Insincere-Question-Classifier/blob/main/2.%20Notebooks/quora_insincere_question_classifier.ipynb\" target=\"_parent\"><img src=\"https://colab.research.google.com/assets/colab-badge.svg\" alt=\"Open In Colab\"/></a>"
      ]
    },
    {
      "cell_type": "markdown",
      "metadata": {
        "id": "a8yvK-qVHV_E"
      },
      "source": [
        "# **Project: Quora Insincere Question Classifier**\n",
        "---"
      ]
    },
    {
      "cell_type": "markdown",
      "metadata": {
        "id": "tw6sZwmhHV_K"
      },
      "source": [
        "# **Introduction** \n",
        "--- \n",
        "\n",
        "\n"
      ]
    },
    {
      "cell_type": "markdown",
      "metadata": {
        "id": "UyICewq0HV_L"
      },
      "source": [
        "## Background: "
      ]
    },
    {
      "cell_type": "markdown",
      "metadata": {
        "id": "fqudzesOHV_M"
      },
      "source": [
        "In today's digital age, social platforms have become hubs for information sharing and community engagement. Quora, one such platform, provides users with a platform to ask questions and receive answers from a diverse community. However, as with any open forum, there is a potential for misuse, where users may pose insincere or deceptive questions.\n",
        "\n",
        "The classification of insincere questions is a significant challenge in natural language processing (NLP). It requires the ability to discern the underlying intent and identify questions that may be misleading, inflammatory, or offensive. Accurately detecting and categorizing these insincere questions is crucial to maintaining the quality and credibility of a platform like Quora.\n",
        "\n",
        "In this project, we delve into the task of insincere question classification on Quora, using machine learning and NLP techniques. Our objective is to develop a robust and efficient model that can automatically differentiate between sincere and insincere questions."
      ]
    },
    {
      "cell_type": "markdown",
      "metadata": {
        "id": "YrfmQsCNHV_N"
      },
      "source": [
        "## Dataset:"
      ]
    },
    {
      "cell_type": "markdown",
      "metadata": {
        "id": "rU_W_4aSHV_O"
      },
      "source": [
        "For our insincerity quest, we will leverage the Quora Insincere Questions Classification dataset, which is publicly available on Kaggle. This dataset comprises a large collection of questions from Quora, along with corresponding labels indicating whether each question is sincere or insincere. The dataset is annotated by human reviewers, providing valuable ground truth for training and evaluation purposes.\n",
        "\n",
        "Our dataset are divided into training and testing dataset.The data contains the following columns: \n",
        "\n",
        "1. **qid**: This is a unique number for each of the question in our datasets. \n",
        "2. **question_text**: The full text of a Quora question. \n",
        "3. **target**: The label encoding on whether a question is sincere or not. "
      ]
    },
    {
      "cell_type": "markdown",
      "metadata": {
        "id": "VSHUko1xHV_P"
      },
      "source": [
        "## Approachs: "
      ]
    },
    {
      "cell_type": "markdown",
      "metadata": {
        "id": "VVT3YeePHV_P"
      },
      "source": [
        "To tackle this problem, we will adopt a supervised learning approach. We will explore various NLP techniques to build a classification model that can effectively distinguish between sincere and insincere questions. This will involve several key steps:\n",
        "\n",
        "1. Data Collection: The Quora Insincere Questions Classification dataset is collected and downloaded from Kaggle. The dataset will be imported and processed using Google Colab. The data structures and features will be explored to gain a better understanding of the dataset.\n",
        "\n",
        "2. Data Preprocessing: Text data is preprocessed by tokenization, lowercasing, and removal of stop words and punctuation. Techniques like stemming or lemmatization may be applied for further normalization.\n",
        "\n",
        "3. Feature Extraction: The preprocessed text data will be transformed into numerical representations suitable for machine learning algorithms. For this project, we will be using word embeddings, such as Word2Vec or GloVe, to convert the text into dense vector representations that capture semantic relationships between words.\n",
        "\n",
        "4. Model Selection and Training: For this project, we will explore various NLP models suitable for insincere question classification, such as recurrent neural networks (RNNs), convolutional neural networks (CNNs), or transformer models like BERT. These models have shown promising results in NLP tasks and can capture complex patterns and dependencies in text data. We will select the most appropriate model based on its performance on the validation dataset and train it using the labeled training dataset.\n",
        "\n",
        "5. Model Evaluation: The trained NLP model will be evaluated using appropriate evaluation metrics, such as accuracy, precision, recall, and F1-score. The performance of the model will be assessed on the test dataset.\n",
        "\n"
      ]
    },
    {
      "cell_type": "markdown",
      "metadata": {
        "id": "wqc6vkuWHV_R"
      },
      "source": [
        "## Importing Packages:"
      ]
    },
    {
      "cell_type": "code",
      "execution_count": 2,
      "metadata": {
        "id": "d_eOWoDkHV_S"
      },
      "outputs": [],
      "source": [
        "# Data manipution packages. \n",
        "import pandas as pd\n",
        "import numpy as np\n",
        "\n",
        "# Data visualization packages.\n",
        "import matplotlib.pyplot as plt\n",
        "import seaborn as sns\n",
        "\n",
        "# File manager packages.\n",
        "import os\n",
        "import shutil\n",
        "from zipfile import ZipFile\n",
        "from google.colab import files\n",
        "from IPython.display import display\n",
        "\n",
        "# Tensoflow packages.\n",
        "import tensorflow as tf\n",
        "from tensorflow import keras\n",
        "from keras.layers import Flatten, Conv1D, MaxPooling1D, Bidirectional, LSTM, RNN, GRU, Dropout\n",
        "from keras.preprocessing.text import Tokenizer\n",
        "from keras.models import Sequential, Model\n",
        "\n",
        "# Other packages.\n",
        "from gensim.models import KeyedVectors\n",
        "%matplotlib inline"
      ]
    },
    {
      "cell_type": "markdown",
      "metadata": {
        "id": "CEy31oLBHV_V"
      },
      "source": [
        "# **Data Collecion**\n",
        "---"
      ]
    },
    {
      "cell_type": "markdown",
      "metadata": {
        "id": "AYJoZmTxHV_W"
      },
      "source": [
        "For this project we will be working from the kaggle notebook,and since our data is already in our working station we would just be loading our dataset from the kaggle input directory. \n",
        "\n",
        "To download this dataset from kaggle for colab and local system use, i will be providing commented code to help with this."
      ]
    },
    {
      "cell_type": "markdown",
      "metadata": {
        "id": "NpzsFgpDHV_W"
      },
      "source": [
        "## Kaggle Data Import:"
      ]
    },
    {
      "cell_type": "markdown",
      "metadata": {
        "id": "JqEHxYTmHV_X"
      },
      "source": [
        "This commented code below is only for colab notebooks."
      ]
    },
    {
      "cell_type": "code",
      "execution_count": null,
      "metadata": {
        "id": "gVOwQ1rbJcTx"
      },
      "outputs": [],
      "source": [
        "# Defining data directory.\n",
        "!mkdir '1. Dataset'"
      ]
    },
    {
      "cell_type": "code",
      "execution_count": null,
      "metadata": {
        "colab": {
          "base_uri": "https://localhost:8080/"
        },
        "id": "3nmHJhrDHV_X",
        "outputId": "7b491f71-a0d8-49ac-eea0-7c52737aa6df"
      },
      "outputs": [
        {
          "name": "stdout",
          "output_type": "stream",
          "text": [
            "Looking in indexes: https://pypi.org/simple, https://us-python.pkg.dev/colab-wheels/public/simple/\n",
            "Requirement already satisfied: kaggle in /usr/local/lib/python3.10/dist-packages (1.5.13)\n",
            "Requirement already satisfied: six>=1.10 in /usr/local/lib/python3.10/dist-packages (from kaggle) (1.16.0)\n",
            "Requirement already satisfied: certifi in /usr/local/lib/python3.10/dist-packages (from kaggle) (2022.12.7)\n",
            "Requirement already satisfied: python-dateutil in /usr/local/lib/python3.10/dist-packages (from kaggle) (2.8.2)\n",
            "Requirement already satisfied: requests in /usr/local/lib/python3.10/dist-packages (from kaggle) (2.27.1)\n",
            "Requirement already satisfied: tqdm in /usr/local/lib/python3.10/dist-packages (from kaggle) (4.65.0)\n",
            "Requirement already satisfied: python-slugify in /usr/local/lib/python3.10/dist-packages (from kaggle) (8.0.1)\n",
            "Requirement already satisfied: urllib3 in /usr/local/lib/python3.10/dist-packages (from kaggle) (1.26.15)\n",
            "Requirement already satisfied: text-unidecode>=1.3 in /usr/local/lib/python3.10/dist-packages (from python-slugify->kaggle) (1.3)\n",
            "Requirement already satisfied: charset-normalizer~=2.0.0 in /usr/local/lib/python3.10/dist-packages (from requests->kaggle) (2.0.12)\n",
            "Requirement already satisfied: idna<4,>=2.5 in /usr/local/lib/python3.10/dist-packages (from requests->kaggle) (3.4)\n"
          ]
        }
      ],
      "source": [
        "# Install kaggle api with Pip. \n",
        "!pip install kaggle"
      ]
    },
    {
      "cell_type": "code",
      "execution_count": null,
      "metadata": {
        "id": "xuApqp3gIEs7"
      },
      "outputs": [],
      "source": [
        "# Uploading Kaggle api token key.\n",
        "files.upload()"
      ]
    },
    {
      "cell_type": "code",
      "execution_count": null,
      "metadata": {
        "id": "FQlixkfIIKfD"
      },
      "outputs": [],
      "source": [
        "# Changing api token location.\n",
        "!mkdir ~/.kaggle\n",
        "!cp kaggle.json ~/.kaggle/\n"
      ]
    },
    {
      "cell_type": "code",
      "execution_count": null,
      "metadata": {
        "colab": {
          "base_uri": "https://localhost:8080/"
        },
        "id": "vws08bD6IRky",
        "outputId": "b6215c15-57d7-4292-d360-e8442647cedd"
      },
      "outputs": [
        {
          "name": "stdout",
          "output_type": "stream",
          "text": [
            "ref                                                       title                                                size  lastUpdated          downloadCount  voteCount  usabilityRating  \n",
            "--------------------------------------------------------  --------------------------------------------------  -----  -------------------  -------------  ---------  ---------------  \n",
            "arnabchaki/data-science-salaries-2023                     Data Science Salaries 2023 💸                         25KB  2023-04-13 09:55:16          21378        591  1.0              \n",
            "fatihb/coffee-quality-data-cqi                            Coffee Quality Data (CQI May-2023)                   22KB  2023-05-12 13:06:39           2185         52  1.0              \n",
            "anxods/spotify-top-50-playlist-songs-anxods               Spotify Top 50 Playlist Songs | @anxods              62KB  2023-05-27 11:39:30            783         26  0.9411765        \n",
            "darshanprabhu09/stock-prices-for                          Stock prices of Amazon , Microsoft , Google, Apple   85KB  2023-05-16 15:17:16            975         28  1.0              \n",
            "ashpalsingh1525/imdb-movies-dataset                       IMDB movies dataset                                   3MB  2023-04-28 23:18:15           2462         54  1.0              \n",
            "iammustafatz/diabetes-prediction-dataset                  Diabetes prediction dataset                         734KB  2023-04-08 06:11:45          11086        161  1.0              \n",
            "utkarshx27/inflation-rate-in-asia                         Inflation Rate in Asia                                3KB  2023-05-13 17:41:29           1019         34  1.0              \n",
            "radheshyamkollipara/bank-customer-churn                   Bank Customer Churn                                 307KB  2023-04-28 16:32:01           2433         40  1.0              \n",
            "desalegngeb/students-exam-scores                          Students Exam Scores: Extended Dataset              695KB  2023-04-14 00:15:38           8893        174  1.0              \n",
            "chitrakumari25/corona-virus-latest-data-2023              Corona virus latest data 2023                        10KB  2023-04-29 16:00:51           2397         56  1.0              \n",
            "omarsobhy14/university-students-complaints-and-reports    University Students Complaints & Reports📝👨‍🎓         38KB  2023-05-12 19:46:45            854         33  1.0              \n",
            "utkarshx27/starbucks-nutrition                            Starbucks Nutrition Facts                             2KB  2023-05-10 05:42:59           1711         49  1.0              \n",
            "utkarshx27/survey-of-labour-and-income-dynamics           Survey of Labour and Income Dynamics                 54KB  2023-05-07 08:00:47            811         25  1.0              \n",
            "rajkumarpandey02/rainfall-in-all-india-dataset-1901-2016  Rainfall in All India Dataset 1901-2016               3KB  2023-05-18 05:45:59            539         31  1.0              \n",
            "faisaljanjua0555/best-video-games-of-all-time             Best Video Games of All Time                         24KB  2023-05-14 19:44:10           1051         41  0.7058824        \n",
            "utkarshx27/world-gdp-growth-1980-2028                     World GDP growth 1980-2028                           53KB  2023-05-13 17:54:00            994         32  0.88235295       \n",
            "utkarshx27/global-poverty-and-inequality-dataset          Global poverty and inequality dataset                 4MB  2023-05-12 17:25:45           1012         32  0.9411765        \n",
            "ursmaheshj/top-10000-popular-movies-tmdb-05-2023          Top 10000 popular Movies TMDB                         2MB  2023-05-09 13:43:53           1034         34  1.0              \n",
            "gyaswanth297/world-population-insights-1970-2022          World Population Insights: 1970-2022                 16KB  2023-05-16 16:25:59            975         32  0.88235295       \n",
            "sougatapramanick/happiness-index-2018-2019                Happiness Index 2018-2019                            15KB  2023-04-14 12:01:03           4208         70  1.0              \n"
          ]
        }
      ],
      "source": [
        "# set the appropriate permissions \n",
        "!chmod 600 ~/.kaggle/kaggle.json\n",
        "\n",
        "# verify api key.\n",
        "!kaggle datasets list"
      ]
    },
    {
      "cell_type": "code",
      "execution_count": null,
      "metadata": {
        "colab": {
          "base_uri": "https://localhost:8080/"
        },
        "id": "Xm1VVDnAIm-s",
        "outputId": "1d0f8118-fd89-4081-b9ab-b0d563baea26"
      },
      "outputs": [
        {
          "name": "stdout",
          "output_type": "stream",
          "text": [
            "Downloading quora-insincere-questions-classification.zip to /content\n",
            "100% 6.02G/6.03G [01:19<00:00, 94.5MB/s]\n",
            "100% 6.03G/6.03G [01:19<00:00, 81.4MB/s]\n"
          ]
        }
      ],
      "source": [
        "# Downloading dataset. \n",
        "!kaggle competitions download 'quora-insincere-questions-classification'"
      ]
    },
    {
      "cell_type": "code",
      "execution_count": null,
      "metadata": {
        "colab": {
          "base_uri": "https://localhost:8080/"
        },
        "id": "Ht5PKjQfLpT9",
        "outputId": "e56b9a30-38f2-4fd6-dd95-59cbe28fe0f9"
      },
      "outputs": [
        {
          "name": "stdout",
          "output_type": "stream",
          "text": [
            "Archive:  quora-insincere-questions-classification.zip\n",
            "  inflating: 1. Dataset/embeddings.zip  \n",
            "  inflating: 1. Dataset/sample_submission.csv  \n",
            "  inflating: 1. Dataset/test.csv     \n",
            "  inflating: 1. Dataset/train.csv    \n"
          ]
        }
      ],
      "source": [
        "# Unzip folder. \n",
        "! unzip quora-insincere-questions-classification.zip -d '1. Dataset'"
      ]
    },
    {
      "cell_type": "markdown",
      "metadata": {
        "id": "57iFDWRRHV_Z"
      },
      "source": [
        "We will be importing and loading our training, and validation dataset."
      ]
    },
    {
      "cell_type": "code",
      "execution_count": 3,
      "metadata": {
        "colab": {
          "base_uri": "https://localhost:8080/"
        },
        "id": "XVvv1IA5HV_Z",
        "outputId": "f412df4c-f1d1-434f-b515-de0ccd5f7b9f"
      },
      "outputs": [
        {
          "output_type": "stream",
          "name": "stdout",
          "text": [
            "Directory name: /content/1. Dataset\n",
            "File name: ['sample_submission.csv', 'test.csv', 'train.csv']\n",
            "\n",
            "/content/1. Dataset/sample_submission.csv\n",
            "/content/1. Dataset/test.csv\n",
            "/content/1. Dataset/train.csv\n",
            "\n",
            "\n",
            "\n",
            "Directory name: /content/1. Dataset/wiki-news-300d-1M\n",
            "File name: ['wiki-news-300d-1M.vec']\n",
            "\n",
            "/content/1. Dataset/wiki-news-300d-1M/wiki-news-300d-1M.vec\n",
            "\n",
            "\n",
            "\n",
            "Directory name: /content/1. Dataset/GoogleNews-vectors-negative300\n",
            "File name: ['GoogleNews-vectors-negative300.bin']\n",
            "\n",
            "/content/1. Dataset/GoogleNews-vectors-negative300/GoogleNews-vectors-negative300.bin\n",
            "\n",
            "\n",
            "\n",
            "Directory name: /content/1. Dataset/glove.840B.300d\n",
            "File name: ['glove.840B.300d.txt']\n",
            "\n",
            "/content/1. Dataset/glove.840B.300d/glove.840B.300d.txt\n",
            "\n",
            "\n",
            "\n",
            "Directory name: /content/1. Dataset/paragram_300_sl999\n",
            "File name: ['README.txt', 'paragram_300_sl999.txt']\n",
            "\n",
            "/content/1. Dataset/paragram_300_sl999/README.txt\n",
            "/content/1. Dataset/paragram_300_sl999/paragram_300_sl999.txt\n",
            "\n",
            "\n",
            "\n"
          ]
        }
      ],
      "source": [
        "# Checking input folder. \n",
        "\n",
        "## Defining a path exploral function. \n",
        "\n",
        "def path_exploral(dir_path:str): \n",
        "    for dirname, _, filenames in os.walk(dir_path):\n",
        "        print(f\"Directory name: {dirname}\")\n",
        "        print(f\"File name: {filenames}\\n\")\n",
        "    \n",
        "        for filename in filenames:\n",
        "            print(os.path.join(dirname, filename))\n",
        "        print('\\n\\n')\n",
        "\n",
        "## Checking the input folder. \n",
        "data_dir = '/content/1. Dataset'\n",
        "\n",
        "path_exploral(data_dir)"
      ]
    },
    {
      "cell_type": "code",
      "execution_count": null,
      "metadata": {
        "colab": {
          "base_uri": "https://localhost:8080/"
        },
        "id": "GOE3HFGyHV_d",
        "outputId": "0a6897fd-c77a-4209-f2d7-31ecbe4e2a28"
      },
      "outputs": [
        {
          "name": "stdout",
          "output_type": "stream",
          "text": [
            "Directory name: /content/1. Dataset\n",
            "File name: ['sample_submission.csv', 'embeddings.zip', 'test.csv', 'train.csv']\n",
            "\n",
            "/content/1. Dataset/sample_submission.csv\n",
            "/content/1. Dataset/embeddings.zip\n",
            "/content/1. Dataset/test.csv\n",
            "/content/1. Dataset/train.csv\n",
            "\n",
            "\n",
            "\n",
            "Directory name: /content/1. Dataset/wiki-news-300d-1M\n",
            "File name: ['wiki-news-300d-1M.vec']\n",
            "\n",
            "/content/1. Dataset/wiki-news-300d-1M/wiki-news-300d-1M.vec\n",
            "\n",
            "\n",
            "\n",
            "Directory name: /content/1. Dataset/GoogleNews-vectors-negative300\n",
            "File name: ['GoogleNews-vectors-negative300.bin']\n",
            "\n",
            "/content/1. Dataset/GoogleNews-vectors-negative300/GoogleNews-vectors-negative300.bin\n",
            "\n",
            "\n",
            "\n",
            "Directory name: /content/1. Dataset/glove.840B.300d\n",
            "File name: ['glove.840B.300d.txt']\n",
            "\n",
            "/content/1. Dataset/glove.840B.300d/glove.840B.300d.txt\n",
            "\n",
            "\n",
            "\n",
            "Directory name: /content/1. Dataset/paragram_300_sl999\n",
            "File name: ['README.txt', 'paragram_300_sl999.txt']\n",
            "\n",
            "/content/1. Dataset/paragram_300_sl999/README.txt\n",
            "/content/1. Dataset/paragram_300_sl999/paragram_300_sl999.txt\n",
            "\n",
            "\n",
            "\n"
          ]
        }
      ],
      "source": [
        "# Unzipping file. \n",
        "\n",
        "## Emebedding zip directory.\n",
        "emb_zip_dir = os.path.join(data_dir,'embeddings.zip' )\n",
        "\n",
        "## Extracting emebedding data file\n",
        "def unzip_folder(source_dir: str, destination_dir: str):\n",
        "    with ZipFile(source_dir) as zip_dir:\n",
        "        zip_dir.extractall(destination_dir)\n",
        "\n",
        "unzip_folder(emb_zip_dir, data_dir)\n",
        "\n",
        "## Checking dataset folder on updated files.\n",
        "path_exploral(data_dir)"
      ]
    },
    {
      "cell_type": "code",
      "execution_count": null,
      "metadata": {
        "id": "ZFLMa8CO3WA7"
      },
      "outputs": [],
      "source": [
        "# Deleting all zip files. \n",
        "!rm /content/*.zip\n",
        "!rm /content/1.\\ Dataset/*.zip\n"
      ]
    },
    {
      "cell_type": "code",
      "execution_count": null,
      "metadata": {
        "colab": {
          "base_uri": "https://localhost:8080/"
        },
        "id": "1Rr4cljG4qOF",
        "outputId": "e72eeeb8-88f2-4483-bcb1-7dfa4451a6f5"
      },
      "outputs": [
        {
          "name": "stdout",
          "output_type": "stream",
          "text": [
            "Directory name: /content/1. Dataset\n",
            "File name: ['sample_submission.csv', 'test.csv', 'train.csv']\n",
            "\n",
            "/content/1. Dataset/sample_submission.csv\n",
            "/content/1. Dataset/test.csv\n",
            "/content/1. Dataset/train.csv\n",
            "\n",
            "\n",
            "\n",
            "Directory name: /content/1. Dataset/wiki-news-300d-1M\n",
            "File name: ['wiki-news-300d-1M.vec']\n",
            "\n",
            "/content/1. Dataset/wiki-news-300d-1M/wiki-news-300d-1M.vec\n",
            "\n",
            "\n",
            "\n",
            "Directory name: /content/1. Dataset/GoogleNews-vectors-negative300\n",
            "File name: ['GoogleNews-vectors-negative300.bin']\n",
            "\n",
            "/content/1. Dataset/GoogleNews-vectors-negative300/GoogleNews-vectors-negative300.bin\n",
            "\n",
            "\n",
            "\n",
            "Directory name: /content/1. Dataset/glove.840B.300d\n",
            "File name: ['glove.840B.300d.txt']\n",
            "\n",
            "/content/1. Dataset/glove.840B.300d/glove.840B.300d.txt\n",
            "\n",
            "\n",
            "\n",
            "Directory name: /content/1. Dataset/paragram_300_sl999\n",
            "File name: ['README.txt', 'paragram_300_sl999.txt']\n",
            "\n",
            "/content/1. Dataset/paragram_300_sl999/README.txt\n",
            "/content/1. Dataset/paragram_300_sl999/paragram_300_sl999.txt\n",
            "\n",
            "\n",
            "\n"
          ]
        }
      ],
      "source": [
        "# Checking folder for update.\n",
        "path_exploral(data_dir)"
      ]
    },
    {
      "cell_type": "markdown",
      "metadata": {
        "id": "rnTxg55DHV_Y"
      },
      "source": [
        "## Data import & review:"
      ]
    },
    {
      "cell_type": "code",
      "execution_count": 3,
      "metadata": {
        "id": "7gbabsDe4tE-"
      },
      "outputs": [],
      "source": [
        "#  Loading training and testing dataframe.\n",
        "\n",
        "## File directories. \n",
        "train_dir = os.path.join(data_dir, 'train.csv')\n",
        "test_dir = os.path.join(data_dir, 'test.csv')\n",
        "sample_sub_dir = os.path.join(data_dir, 'sample_submission.csv')\n",
        "\n",
        "## Importing files to dataframes.\n",
        "train_df = pd.read_csv(train_dir)\n",
        "test_df = pd.read_csv(test_dir)\n",
        "sample_sub_df = pd.read_csv(sample_sub_dir)\n"
      ]
    },
    {
      "cell_type": "code",
      "execution_count": 4,
      "metadata": {
        "colab": {
          "base_uri": "https://localhost:8080/",
          "height": 1000
        },
        "id": "88GhisrJSA9i",
        "outputId": "9c31efb9-ea62-4881-d6f4-db2494f1d906"
      },
      "outputs": [
        {
          "output_type": "stream",
          "name": "stdout",
          "text": [
            "\t\t\t##### Training Dataset #####\n"
          ]
        },
        {
          "output_type": "display_data",
          "data": {
            "text/plain": [
              "                    qid                                      question_text  \\\n",
              "0  00002165364db923c7e6  How did Quebec nationalists see their province...   \n",
              "1  000032939017120e6e44  Do you have an adopted dog, how would you enco...   \n",
              "2  0000412ca6e4628ce2cf  Why does velocity affect time? Does velocity a...   \n",
              "3  000042bf85aa498cd78e  How did Otto von Guericke used the Magdeburg h...   \n",
              "4  0000455dfa3e01eae3af  Can I convert montra helicon D to a mountain b...   \n",
              "5  00004f9a462a357c33be  Is Gaza slowly becoming Auschwitz, Dachau or T...   \n",
              "6  00005059a06ee19e11ad  Why does Quora automatically ban conservative ...   \n",
              "7  0000559f875832745e2e  Is it crazy if I wash or wipe my groceries off...   \n",
              "8  00005bd3426b2d0c8305  Is there such a thing as dressing moderately, ...   \n",
              "9  00006e6928c5df60eacb  Is it just me or have you ever been in this ph...   \n",
              "\n",
              "   target  \n",
              "0       0  \n",
              "1       0  \n",
              "2       0  \n",
              "3       0  \n",
              "4       0  \n",
              "5       0  \n",
              "6       0  \n",
              "7       0  \n",
              "8       0  \n",
              "9       0  "
            ],
            "text/html": [
              "\n",
              "  <div id=\"df-01a370c0-1414-4d34-b106-d12f1c718def\">\n",
              "    <div class=\"colab-df-container\">\n",
              "      <div>\n",
              "<style scoped>\n",
              "    .dataframe tbody tr th:only-of-type {\n",
              "        vertical-align: middle;\n",
              "    }\n",
              "\n",
              "    .dataframe tbody tr th {\n",
              "        vertical-align: top;\n",
              "    }\n",
              "\n",
              "    .dataframe thead th {\n",
              "        text-align: right;\n",
              "    }\n",
              "</style>\n",
              "<table border=\"1\" class=\"dataframe\">\n",
              "  <thead>\n",
              "    <tr style=\"text-align: right;\">\n",
              "      <th></th>\n",
              "      <th>qid</th>\n",
              "      <th>question_text</th>\n",
              "      <th>target</th>\n",
              "    </tr>\n",
              "  </thead>\n",
              "  <tbody>\n",
              "    <tr>\n",
              "      <th>0</th>\n",
              "      <td>00002165364db923c7e6</td>\n",
              "      <td>How did Quebec nationalists see their province...</td>\n",
              "      <td>0</td>\n",
              "    </tr>\n",
              "    <tr>\n",
              "      <th>1</th>\n",
              "      <td>000032939017120e6e44</td>\n",
              "      <td>Do you have an adopted dog, how would you enco...</td>\n",
              "      <td>0</td>\n",
              "    </tr>\n",
              "    <tr>\n",
              "      <th>2</th>\n",
              "      <td>0000412ca6e4628ce2cf</td>\n",
              "      <td>Why does velocity affect time? Does velocity a...</td>\n",
              "      <td>0</td>\n",
              "    </tr>\n",
              "    <tr>\n",
              "      <th>3</th>\n",
              "      <td>000042bf85aa498cd78e</td>\n",
              "      <td>How did Otto von Guericke used the Magdeburg h...</td>\n",
              "      <td>0</td>\n",
              "    </tr>\n",
              "    <tr>\n",
              "      <th>4</th>\n",
              "      <td>0000455dfa3e01eae3af</td>\n",
              "      <td>Can I convert montra helicon D to a mountain b...</td>\n",
              "      <td>0</td>\n",
              "    </tr>\n",
              "    <tr>\n",
              "      <th>5</th>\n",
              "      <td>00004f9a462a357c33be</td>\n",
              "      <td>Is Gaza slowly becoming Auschwitz, Dachau or T...</td>\n",
              "      <td>0</td>\n",
              "    </tr>\n",
              "    <tr>\n",
              "      <th>6</th>\n",
              "      <td>00005059a06ee19e11ad</td>\n",
              "      <td>Why does Quora automatically ban conservative ...</td>\n",
              "      <td>0</td>\n",
              "    </tr>\n",
              "    <tr>\n",
              "      <th>7</th>\n",
              "      <td>0000559f875832745e2e</td>\n",
              "      <td>Is it crazy if I wash or wipe my groceries off...</td>\n",
              "      <td>0</td>\n",
              "    </tr>\n",
              "    <tr>\n",
              "      <th>8</th>\n",
              "      <td>00005bd3426b2d0c8305</td>\n",
              "      <td>Is there such a thing as dressing moderately, ...</td>\n",
              "      <td>0</td>\n",
              "    </tr>\n",
              "    <tr>\n",
              "      <th>9</th>\n",
              "      <td>00006e6928c5df60eacb</td>\n",
              "      <td>Is it just me or have you ever been in this ph...</td>\n",
              "      <td>0</td>\n",
              "    </tr>\n",
              "  </tbody>\n",
              "</table>\n",
              "</div>\n",
              "      <button class=\"colab-df-convert\" onclick=\"convertToInteractive('df-01a370c0-1414-4d34-b106-d12f1c718def')\"\n",
              "              title=\"Convert this dataframe to an interactive table.\"\n",
              "              style=\"display:none;\">\n",
              "        \n",
              "  <svg xmlns=\"http://www.w3.org/2000/svg\" height=\"24px\"viewBox=\"0 0 24 24\"\n",
              "       width=\"24px\">\n",
              "    <path d=\"M0 0h24v24H0V0z\" fill=\"none\"/>\n",
              "    <path d=\"M18.56 5.44l.94 2.06.94-2.06 2.06-.94-2.06-.94-.94-2.06-.94 2.06-2.06.94zm-11 1L8.5 8.5l.94-2.06 2.06-.94-2.06-.94L8.5 2.5l-.94 2.06-2.06.94zm10 10l.94 2.06.94-2.06 2.06-.94-2.06-.94-.94-2.06-.94 2.06-2.06.94z\"/><path d=\"M17.41 7.96l-1.37-1.37c-.4-.4-.92-.59-1.43-.59-.52 0-1.04.2-1.43.59L10.3 9.45l-7.72 7.72c-.78.78-.78 2.05 0 2.83L4 21.41c.39.39.9.59 1.41.59.51 0 1.02-.2 1.41-.59l7.78-7.78 2.81-2.81c.8-.78.8-2.07 0-2.86zM5.41 20L4 18.59l7.72-7.72 1.47 1.35L5.41 20z\"/>\n",
              "  </svg>\n",
              "      </button>\n",
              "      \n",
              "  <style>\n",
              "    .colab-df-container {\n",
              "      display:flex;\n",
              "      flex-wrap:wrap;\n",
              "      gap: 12px;\n",
              "    }\n",
              "\n",
              "    .colab-df-convert {\n",
              "      background-color: #E8F0FE;\n",
              "      border: none;\n",
              "      border-radius: 50%;\n",
              "      cursor: pointer;\n",
              "      display: none;\n",
              "      fill: #1967D2;\n",
              "      height: 32px;\n",
              "      padding: 0 0 0 0;\n",
              "      width: 32px;\n",
              "    }\n",
              "\n",
              "    .colab-df-convert:hover {\n",
              "      background-color: #E2EBFA;\n",
              "      box-shadow: 0px 1px 2px rgba(60, 64, 67, 0.3), 0px 1px 3px 1px rgba(60, 64, 67, 0.15);\n",
              "      fill: #174EA6;\n",
              "    }\n",
              "\n",
              "    [theme=dark] .colab-df-convert {\n",
              "      background-color: #3B4455;\n",
              "      fill: #D2E3FC;\n",
              "    }\n",
              "\n",
              "    [theme=dark] .colab-df-convert:hover {\n",
              "      background-color: #434B5C;\n",
              "      box-shadow: 0px 1px 3px 1px rgba(0, 0, 0, 0.15);\n",
              "      filter: drop-shadow(0px 1px 2px rgba(0, 0, 0, 0.3));\n",
              "      fill: #FFFFFF;\n",
              "    }\n",
              "  </style>\n",
              "\n",
              "      <script>\n",
              "        const buttonEl =\n",
              "          document.querySelector('#df-01a370c0-1414-4d34-b106-d12f1c718def button.colab-df-convert');\n",
              "        buttonEl.style.display =\n",
              "          google.colab.kernel.accessAllowed ? 'block' : 'none';\n",
              "\n",
              "        async function convertToInteractive(key) {\n",
              "          const element = document.querySelector('#df-01a370c0-1414-4d34-b106-d12f1c718def');\n",
              "          const dataTable =\n",
              "            await google.colab.kernel.invokeFunction('convertToInteractive',\n",
              "                                                     [key], {});\n",
              "          if (!dataTable) return;\n",
              "\n",
              "          const docLinkHtml = 'Like what you see? Visit the ' +\n",
              "            '<a target=\"_blank\" href=https://colab.research.google.com/notebooks/data_table.ipynb>data table notebook</a>'\n",
              "            + ' to learn more about interactive tables.';\n",
              "          element.innerHTML = '';\n",
              "          dataTable['output_type'] = 'display_data';\n",
              "          await google.colab.output.renderOutput(dataTable, element);\n",
              "          const docLink = document.createElement('div');\n",
              "          docLink.innerHTML = docLinkHtml;\n",
              "          element.appendChild(docLink);\n",
              "        }\n",
              "      </script>\n",
              "    </div>\n",
              "  </div>\n",
              "  "
            ]
          },
          "metadata": {}
        },
        {
          "output_type": "stream",
          "name": "stdout",
          "text": [
            "\n",
            "\n",
            "\n",
            "\t\t\t##### Testing Dataset #####\n"
          ]
        },
        {
          "output_type": "display_data",
          "data": {
            "text/plain": [
              "                    qid                                      question_text\n",
              "0  0000163e3ea7c7a74cd7  Why do so many women become so rude and arroga...\n",
              "1  00002bd4fb5d505b9161  When should I apply for RV college of engineer...\n",
              "2  00007756b4a147d2b0b3  What is it really like to be a nurse practitio...\n",
              "3  000086e4b7e1c7146103                             Who are entrepreneurs?\n",
              "4  0000c4c3fbe8785a3090   Is education really making good people nowadays?\n",
              "5  000101884c19f3515c1a        How do you train a pigeon to send messages?\n",
              "6  00010f62537781f44a47                  What is the currency in Langkawi?\n",
              "7  00012afbd27452239059  What is the future for Pandora, can the busine...\n",
              "8  00014894849d00ba98a9  My voice range is A2-C5. My chest voice goes u...\n",
              "9  000156468431f09b3cae           How much does a tutor earn in Bangalore?"
            ],
            "text/html": [
              "\n",
              "  <div id=\"df-503d05e3-4a20-46d1-bab0-9559c59f08a9\">\n",
              "    <div class=\"colab-df-container\">\n",
              "      <div>\n",
              "<style scoped>\n",
              "    .dataframe tbody tr th:only-of-type {\n",
              "        vertical-align: middle;\n",
              "    }\n",
              "\n",
              "    .dataframe tbody tr th {\n",
              "        vertical-align: top;\n",
              "    }\n",
              "\n",
              "    .dataframe thead th {\n",
              "        text-align: right;\n",
              "    }\n",
              "</style>\n",
              "<table border=\"1\" class=\"dataframe\">\n",
              "  <thead>\n",
              "    <tr style=\"text-align: right;\">\n",
              "      <th></th>\n",
              "      <th>qid</th>\n",
              "      <th>question_text</th>\n",
              "    </tr>\n",
              "  </thead>\n",
              "  <tbody>\n",
              "    <tr>\n",
              "      <th>0</th>\n",
              "      <td>0000163e3ea7c7a74cd7</td>\n",
              "      <td>Why do so many women become so rude and arroga...</td>\n",
              "    </tr>\n",
              "    <tr>\n",
              "      <th>1</th>\n",
              "      <td>00002bd4fb5d505b9161</td>\n",
              "      <td>When should I apply for RV college of engineer...</td>\n",
              "    </tr>\n",
              "    <tr>\n",
              "      <th>2</th>\n",
              "      <td>00007756b4a147d2b0b3</td>\n",
              "      <td>What is it really like to be a nurse practitio...</td>\n",
              "    </tr>\n",
              "    <tr>\n",
              "      <th>3</th>\n",
              "      <td>000086e4b7e1c7146103</td>\n",
              "      <td>Who are entrepreneurs?</td>\n",
              "    </tr>\n",
              "    <tr>\n",
              "      <th>4</th>\n",
              "      <td>0000c4c3fbe8785a3090</td>\n",
              "      <td>Is education really making good people nowadays?</td>\n",
              "    </tr>\n",
              "    <tr>\n",
              "      <th>5</th>\n",
              "      <td>000101884c19f3515c1a</td>\n",
              "      <td>How do you train a pigeon to send messages?</td>\n",
              "    </tr>\n",
              "    <tr>\n",
              "      <th>6</th>\n",
              "      <td>00010f62537781f44a47</td>\n",
              "      <td>What is the currency in Langkawi?</td>\n",
              "    </tr>\n",
              "    <tr>\n",
              "      <th>7</th>\n",
              "      <td>00012afbd27452239059</td>\n",
              "      <td>What is the future for Pandora, can the busine...</td>\n",
              "    </tr>\n",
              "    <tr>\n",
              "      <th>8</th>\n",
              "      <td>00014894849d00ba98a9</td>\n",
              "      <td>My voice range is A2-C5. My chest voice goes u...</td>\n",
              "    </tr>\n",
              "    <tr>\n",
              "      <th>9</th>\n",
              "      <td>000156468431f09b3cae</td>\n",
              "      <td>How much does a tutor earn in Bangalore?</td>\n",
              "    </tr>\n",
              "  </tbody>\n",
              "</table>\n",
              "</div>\n",
              "      <button class=\"colab-df-convert\" onclick=\"convertToInteractive('df-503d05e3-4a20-46d1-bab0-9559c59f08a9')\"\n",
              "              title=\"Convert this dataframe to an interactive table.\"\n",
              "              style=\"display:none;\">\n",
              "        \n",
              "  <svg xmlns=\"http://www.w3.org/2000/svg\" height=\"24px\"viewBox=\"0 0 24 24\"\n",
              "       width=\"24px\">\n",
              "    <path d=\"M0 0h24v24H0V0z\" fill=\"none\"/>\n",
              "    <path d=\"M18.56 5.44l.94 2.06.94-2.06 2.06-.94-2.06-.94-.94-2.06-.94 2.06-2.06.94zm-11 1L8.5 8.5l.94-2.06 2.06-.94-2.06-.94L8.5 2.5l-.94 2.06-2.06.94zm10 10l.94 2.06.94-2.06 2.06-.94-2.06-.94-.94-2.06-.94 2.06-2.06.94z\"/><path d=\"M17.41 7.96l-1.37-1.37c-.4-.4-.92-.59-1.43-.59-.52 0-1.04.2-1.43.59L10.3 9.45l-7.72 7.72c-.78.78-.78 2.05 0 2.83L4 21.41c.39.39.9.59 1.41.59.51 0 1.02-.2 1.41-.59l7.78-7.78 2.81-2.81c.8-.78.8-2.07 0-2.86zM5.41 20L4 18.59l7.72-7.72 1.47 1.35L5.41 20z\"/>\n",
              "  </svg>\n",
              "      </button>\n",
              "      \n",
              "  <style>\n",
              "    .colab-df-container {\n",
              "      display:flex;\n",
              "      flex-wrap:wrap;\n",
              "      gap: 12px;\n",
              "    }\n",
              "\n",
              "    .colab-df-convert {\n",
              "      background-color: #E8F0FE;\n",
              "      border: none;\n",
              "      border-radius: 50%;\n",
              "      cursor: pointer;\n",
              "      display: none;\n",
              "      fill: #1967D2;\n",
              "      height: 32px;\n",
              "      padding: 0 0 0 0;\n",
              "      width: 32px;\n",
              "    }\n",
              "\n",
              "    .colab-df-convert:hover {\n",
              "      background-color: #E2EBFA;\n",
              "      box-shadow: 0px 1px 2px rgba(60, 64, 67, 0.3), 0px 1px 3px 1px rgba(60, 64, 67, 0.15);\n",
              "      fill: #174EA6;\n",
              "    }\n",
              "\n",
              "    [theme=dark] .colab-df-convert {\n",
              "      background-color: #3B4455;\n",
              "      fill: #D2E3FC;\n",
              "    }\n",
              "\n",
              "    [theme=dark] .colab-df-convert:hover {\n",
              "      background-color: #434B5C;\n",
              "      box-shadow: 0px 1px 3px 1px rgba(0, 0, 0, 0.15);\n",
              "      filter: drop-shadow(0px 1px 2px rgba(0, 0, 0, 0.3));\n",
              "      fill: #FFFFFF;\n",
              "    }\n",
              "  </style>\n",
              "\n",
              "      <script>\n",
              "        const buttonEl =\n",
              "          document.querySelector('#df-503d05e3-4a20-46d1-bab0-9559c59f08a9 button.colab-df-convert');\n",
              "        buttonEl.style.display =\n",
              "          google.colab.kernel.accessAllowed ? 'block' : 'none';\n",
              "\n",
              "        async function convertToInteractive(key) {\n",
              "          const element = document.querySelector('#df-503d05e3-4a20-46d1-bab0-9559c59f08a9');\n",
              "          const dataTable =\n",
              "            await google.colab.kernel.invokeFunction('convertToInteractive',\n",
              "                                                     [key], {});\n",
              "          if (!dataTable) return;\n",
              "\n",
              "          const docLinkHtml = 'Like what you see? Visit the ' +\n",
              "            '<a target=\"_blank\" href=https://colab.research.google.com/notebooks/data_table.ipynb>data table notebook</a>'\n",
              "            + ' to learn more about interactive tables.';\n",
              "          element.innerHTML = '';\n",
              "          dataTable['output_type'] = 'display_data';\n",
              "          await google.colab.output.renderOutput(dataTable, element);\n",
              "          const docLink = document.createElement('div');\n",
              "          docLink.innerHTML = docLinkHtml;\n",
              "          element.appendChild(docLink);\n",
              "        }\n",
              "      </script>\n",
              "    </div>\n",
              "  </div>\n",
              "  "
            ]
          },
          "metadata": {}
        },
        {
          "output_type": "stream",
          "name": "stdout",
          "text": [
            "\n",
            "\n",
            "\n",
            "\t\t\t##### Sample Submission Dataset #####\n"
          ]
        },
        {
          "output_type": "display_data",
          "data": {
            "text/plain": [
              "                    qid  prediction\n",
              "0  0000163e3ea7c7a74cd7           0\n",
              "1  00002bd4fb5d505b9161           0\n",
              "2  00007756b4a147d2b0b3           0\n",
              "3  000086e4b7e1c7146103           0\n",
              "4  0000c4c3fbe8785a3090           0\n",
              "5  000101884c19f3515c1a           0\n",
              "6  00010f62537781f44a47           0\n",
              "7  00012afbd27452239059           0\n",
              "8  00014894849d00ba98a9           0\n",
              "9  000156468431f09b3cae           0"
            ],
            "text/html": [
              "\n",
              "  <div id=\"df-a0d329a4-a31a-4c3b-ae23-1fc1314f7a4a\">\n",
              "    <div class=\"colab-df-container\">\n",
              "      <div>\n",
              "<style scoped>\n",
              "    .dataframe tbody tr th:only-of-type {\n",
              "        vertical-align: middle;\n",
              "    }\n",
              "\n",
              "    .dataframe tbody tr th {\n",
              "        vertical-align: top;\n",
              "    }\n",
              "\n",
              "    .dataframe thead th {\n",
              "        text-align: right;\n",
              "    }\n",
              "</style>\n",
              "<table border=\"1\" class=\"dataframe\">\n",
              "  <thead>\n",
              "    <tr style=\"text-align: right;\">\n",
              "      <th></th>\n",
              "      <th>qid</th>\n",
              "      <th>prediction</th>\n",
              "    </tr>\n",
              "  </thead>\n",
              "  <tbody>\n",
              "    <tr>\n",
              "      <th>0</th>\n",
              "      <td>0000163e3ea7c7a74cd7</td>\n",
              "      <td>0</td>\n",
              "    </tr>\n",
              "    <tr>\n",
              "      <th>1</th>\n",
              "      <td>00002bd4fb5d505b9161</td>\n",
              "      <td>0</td>\n",
              "    </tr>\n",
              "    <tr>\n",
              "      <th>2</th>\n",
              "      <td>00007756b4a147d2b0b3</td>\n",
              "      <td>0</td>\n",
              "    </tr>\n",
              "    <tr>\n",
              "      <th>3</th>\n",
              "      <td>000086e4b7e1c7146103</td>\n",
              "      <td>0</td>\n",
              "    </tr>\n",
              "    <tr>\n",
              "      <th>4</th>\n",
              "      <td>0000c4c3fbe8785a3090</td>\n",
              "      <td>0</td>\n",
              "    </tr>\n",
              "    <tr>\n",
              "      <th>5</th>\n",
              "      <td>000101884c19f3515c1a</td>\n",
              "      <td>0</td>\n",
              "    </tr>\n",
              "    <tr>\n",
              "      <th>6</th>\n",
              "      <td>00010f62537781f44a47</td>\n",
              "      <td>0</td>\n",
              "    </tr>\n",
              "    <tr>\n",
              "      <th>7</th>\n",
              "      <td>00012afbd27452239059</td>\n",
              "      <td>0</td>\n",
              "    </tr>\n",
              "    <tr>\n",
              "      <th>8</th>\n",
              "      <td>00014894849d00ba98a9</td>\n",
              "      <td>0</td>\n",
              "    </tr>\n",
              "    <tr>\n",
              "      <th>9</th>\n",
              "      <td>000156468431f09b3cae</td>\n",
              "      <td>0</td>\n",
              "    </tr>\n",
              "  </tbody>\n",
              "</table>\n",
              "</div>\n",
              "      <button class=\"colab-df-convert\" onclick=\"convertToInteractive('df-a0d329a4-a31a-4c3b-ae23-1fc1314f7a4a')\"\n",
              "              title=\"Convert this dataframe to an interactive table.\"\n",
              "              style=\"display:none;\">\n",
              "        \n",
              "  <svg xmlns=\"http://www.w3.org/2000/svg\" height=\"24px\"viewBox=\"0 0 24 24\"\n",
              "       width=\"24px\">\n",
              "    <path d=\"M0 0h24v24H0V0z\" fill=\"none\"/>\n",
              "    <path d=\"M18.56 5.44l.94 2.06.94-2.06 2.06-.94-2.06-.94-.94-2.06-.94 2.06-2.06.94zm-11 1L8.5 8.5l.94-2.06 2.06-.94-2.06-.94L8.5 2.5l-.94 2.06-2.06.94zm10 10l.94 2.06.94-2.06 2.06-.94-2.06-.94-.94-2.06-.94 2.06-2.06.94z\"/><path d=\"M17.41 7.96l-1.37-1.37c-.4-.4-.92-.59-1.43-.59-.52 0-1.04.2-1.43.59L10.3 9.45l-7.72 7.72c-.78.78-.78 2.05 0 2.83L4 21.41c.39.39.9.59 1.41.59.51 0 1.02-.2 1.41-.59l7.78-7.78 2.81-2.81c.8-.78.8-2.07 0-2.86zM5.41 20L4 18.59l7.72-7.72 1.47 1.35L5.41 20z\"/>\n",
              "  </svg>\n",
              "      </button>\n",
              "      \n",
              "  <style>\n",
              "    .colab-df-container {\n",
              "      display:flex;\n",
              "      flex-wrap:wrap;\n",
              "      gap: 12px;\n",
              "    }\n",
              "\n",
              "    .colab-df-convert {\n",
              "      background-color: #E8F0FE;\n",
              "      border: none;\n",
              "      border-radius: 50%;\n",
              "      cursor: pointer;\n",
              "      display: none;\n",
              "      fill: #1967D2;\n",
              "      height: 32px;\n",
              "      padding: 0 0 0 0;\n",
              "      width: 32px;\n",
              "    }\n",
              "\n",
              "    .colab-df-convert:hover {\n",
              "      background-color: #E2EBFA;\n",
              "      box-shadow: 0px 1px 2px rgba(60, 64, 67, 0.3), 0px 1px 3px 1px rgba(60, 64, 67, 0.15);\n",
              "      fill: #174EA6;\n",
              "    }\n",
              "\n",
              "    [theme=dark] .colab-df-convert {\n",
              "      background-color: #3B4455;\n",
              "      fill: #D2E3FC;\n",
              "    }\n",
              "\n",
              "    [theme=dark] .colab-df-convert:hover {\n",
              "      background-color: #434B5C;\n",
              "      box-shadow: 0px 1px 3px 1px rgba(0, 0, 0, 0.15);\n",
              "      filter: drop-shadow(0px 1px 2px rgba(0, 0, 0, 0.3));\n",
              "      fill: #FFFFFF;\n",
              "    }\n",
              "  </style>\n",
              "\n",
              "      <script>\n",
              "        const buttonEl =\n",
              "          document.querySelector('#df-a0d329a4-a31a-4c3b-ae23-1fc1314f7a4a button.colab-df-convert');\n",
              "        buttonEl.style.display =\n",
              "          google.colab.kernel.accessAllowed ? 'block' : 'none';\n",
              "\n",
              "        async function convertToInteractive(key) {\n",
              "          const element = document.querySelector('#df-a0d329a4-a31a-4c3b-ae23-1fc1314f7a4a');\n",
              "          const dataTable =\n",
              "            await google.colab.kernel.invokeFunction('convertToInteractive',\n",
              "                                                     [key], {});\n",
              "          if (!dataTable) return;\n",
              "\n",
              "          const docLinkHtml = 'Like what you see? Visit the ' +\n",
              "            '<a target=\"_blank\" href=https://colab.research.google.com/notebooks/data_table.ipynb>data table notebook</a>'\n",
              "            + ' to learn more about interactive tables.';\n",
              "          element.innerHTML = '';\n",
              "          dataTable['output_type'] = 'display_data';\n",
              "          await google.colab.output.renderOutput(dataTable, element);\n",
              "          const docLink = document.createElement('div');\n",
              "          docLink.innerHTML = docLinkHtml;\n",
              "          element.appendChild(docLink);\n",
              "        }\n",
              "      </script>\n",
              "    </div>\n",
              "  </div>\n",
              "  "
            ]
          },
          "metadata": {}
        },
        {
          "output_type": "stream",
          "name": "stdout",
          "text": [
            "\n",
            "\n",
            "\n"
          ]
        }
      ],
      "source": [
        "# View data.\n",
        "\n",
        "## Training dataset.\n",
        "print(\"\\t\\t\\t##### Training Dataset #####\")\n",
        "display(train_df.head(10))\n",
        "print('\\n\\n')\n",
        "\n",
        "## Testing dataset.\n",
        "print(\"\\t\\t\\t##### Testing Dataset #####\")\n",
        "display(test_df.head(10))\n",
        "print('\\n\\n')\n",
        "\n",
        "## Sample Submission dataset. \n",
        "print(\"\\t\\t\\t##### Sample Submission Dataset #####\")\n",
        "display(sample_sub_df.head(10))\n",
        "print('\\n\\n')"
      ]
    },
    {
      "cell_type": "code",
      "execution_count": 5,
      "metadata": {
        "colab": {
          "base_uri": "https://localhost:8080/"
        },
        "id": "FLdkznncxQRq",
        "outputId": "d84d27c2-0e85-449e-9958-81b475fd5e44"
      },
      "outputs": [
        {
          "output_type": "stream",
          "name": "stdout",
          "text": [
            "\t\t---------> Dataset Columns <---------\n",
            "Training Columns: \n",
            "\tIndex(['qid', 'question_text', 'target'], dtype='object')\n",
            "\n",
            "Testing Columns: \n",
            "\tIndex(['qid', 'question_text'], dtype='object')\n",
            "\n",
            "\n",
            "\t\t---------> Data Shape <---------\n",
            "Train data Shape: \n",
            "\tRows -> 1306122 \n",
            "\tColumns -> 3\n",
            "\n",
            "Train data Shape: \n",
            "\tRows -> 375806 \n",
            "\tColumns -> 2\n",
            "\n",
            "\n",
            "\t\t---------> Null Data <---------\n",
            "Number of train data null values: \n",
            "qid              0\n",
            "question_text    0\n",
            "target           0\n",
            "dtype: int64\n",
            "\n",
            "Number of test data null values: \n",
            "qid              0\n",
            "question_text    0\n",
            "dtype: int64\n",
            "\n",
            "\n",
            "\t\t---------> Data Info <---------\n",
            "<class 'pandas.core.frame.DataFrame'>\n",
            "RangeIndex: 1306122 entries, 0 to 1306121\n",
            "Data columns (total 3 columns):\n",
            " #   Column         Non-Null Count    Dtype \n",
            "---  ------         --------------    ----- \n",
            " 0   qid            1306122 non-null  object\n",
            " 1   question_text  1306122 non-null  object\n",
            " 2   target         1306122 non-null  int64 \n",
            "dtypes: int64(1), object(2)\n",
            "memory usage: 29.9+ MB\n",
            "Train data info: \n",
            "None\n",
            "\n",
            "<class 'pandas.core.frame.DataFrame'>\n",
            "RangeIndex: 375806 entries, 0 to 375805\n",
            "Data columns (total 2 columns):\n",
            " #   Column         Non-Null Count   Dtype \n",
            "---  ------         --------------   ----- \n",
            " 0   qid            375806 non-null  object\n",
            " 1   question_text  375806 non-null  object\n",
            "dtypes: object(2)\n",
            "memory usage: 5.7+ MB\n",
            "Test data info: \n",
            "None\n",
            "\n",
            "\n"
          ]
        }
      ],
      "source": [
        "# Data structure\n",
        "\n",
        "## Data columns. \n",
        "print(\"\\t\\t---------> Dataset Columns <---------\")\n",
        "print(f\"Training Columns: \\n\\t{train_df.columns}\\n\")\n",
        "print(f\"Testing Columns: \\n\\t{test_df.columns}\\n\\n\")\n",
        "\n",
        "## Data Shape.\n",
        "print(\"\\t\\t---------> Data Shape <---------\")\n",
        "print(f\"Train data Shape: \\n\\tRows -> {train_df.shape[0]} \\n\\tColumns -> {train_df.shape[1]}\\n\")\n",
        "print(f\"Train data Shape: \\n\\tRows -> {test_df.shape[0]} \\n\\tColumns -> {test_df.shape[1]}\\n\\n\")\n",
        "\n",
        "## Null data. \n",
        "print(\"\\t\\t---------> Null Data <---------\")\n",
        "print(f\"Number of train data null values: \\n{train_df.isnull().sum()}\\n\")\n",
        "print(f\"Number of test data null values: \\n{test_df.isnull().sum()}\\n\\n\")\n",
        "\n",
        "## Data info\n",
        "print(\"\\t\\t---------> Data Info <---------\")\n",
        "print(f\"Train data info: \\n{train_df.info()}\\n\")\n",
        "print(f\"Test data info: \\n{test_df.info()}\\n\\n\")"
      ]
    },
    {
      "cell_type": "markdown",
      "metadata": {
        "id": "aXbdLGd6w_82"
      },
      "source": [
        "# **Data Preprocessing**\n",
        "---"
      ]
    },
    {
      "cell_type": "markdown",
      "metadata": {
        "id": "WXdrd8JlxKMW"
      },
      "source": [
        "For this phase of our project we will be processing our data & importing our pretrained tokenizer. \n",
        "\n",
        "I will be using the glove pretrained tokenizer for our word converter to vectors. The tokenizer was provided with our dataset and we will be making use of this provided verstion. "
      ]
    },
    {
      "cell_type": "markdown",
      "metadata": {
        "id": "jAntsLD607Mu"
      },
      "source": [
        "## Pretrained Tokenizer: "
      ]
    },
    {
      "cell_type": "code",
      "execution_count": 4,
      "metadata": {
        "id": "Fbx40GZ21Ep2"
      },
      "outputs": [],
      "source": [
        "# Embedding directory.\n",
        "glove_dir = os.path.join(data_dir, 'glove.840B.300d/glove.840B.300d.txt')\n",
        "ggle_vec_dir = os.path.join(data_dir, 'GoogleNews-vectors-negative300/GoogleNews-vectors-negative300.bin')"
      ]
    },
    {
      "cell_type": "code",
      "source": [
        "# Import Pretrained tokenizer.\n",
        "\n",
        "## Load the pretrained word vectors\n",
        "ggle_word_vec = KeyedVectors.load_word2vec_format(ggle_vec_dir, binary=True)\n",
        "\n",
        "## Access the vector for a specific word\n",
        "word_vector = ggle_word_vec['hello']\n",
        "\n",
        "print(word_vector)\n"
      ],
      "metadata": {
        "colab": {
          "base_uri": "https://localhost:8080/"
        },
        "id": "9cREcYE691on",
        "outputId": "07297afe-a817-4d32-ba7b-6935e01ca5ae"
      },
      "execution_count": 7,
      "outputs": [
        {
          "output_type": "stream",
          "name": "stdout",
          "text": [
            "[-0.05419922  0.01708984 -0.00527954  0.33203125 -0.25       -0.01397705\n",
            " -0.15039062 -0.265625    0.01647949  0.3828125  -0.03295898 -0.09716797\n",
            " -0.16308594 -0.04443359  0.00946045  0.18457031  0.03637695  0.16601562\n",
            "  0.36328125 -0.25585938  0.375       0.171875    0.21386719 -0.19921875\n",
            "  0.13085938 -0.07275391 -0.02819824  0.11621094  0.15332031  0.09082031\n",
            "  0.06787109 -0.0300293  -0.16894531 -0.20800781 -0.03710938 -0.22753906\n",
            "  0.26367188  0.012146    0.18359375  0.31054688 -0.10791016 -0.19140625\n",
            "  0.21582031  0.13183594 -0.03515625  0.18554688 -0.30859375  0.04785156\n",
            " -0.10986328  0.14355469 -0.43554688 -0.0378418   0.10839844  0.140625\n",
            " -0.10595703  0.26171875 -0.17089844  0.39453125  0.12597656 -0.27734375\n",
            " -0.28125     0.14746094 -0.20996094  0.02355957  0.18457031  0.00445557\n",
            " -0.27929688 -0.03637695 -0.29296875  0.19628906  0.20703125  0.2890625\n",
            " -0.20507812  0.06787109 -0.43164062 -0.10986328 -0.2578125  -0.02331543\n",
            "  0.11328125  0.23144531 -0.04418945  0.10839844 -0.2890625  -0.09521484\n",
            " -0.10351562 -0.0324707   0.07763672 -0.13378906  0.22949219  0.06298828\n",
            "  0.08349609  0.02929688 -0.11474609  0.00534058 -0.12988281  0.02514648\n",
            "  0.08789062  0.24511719 -0.11474609 -0.296875   -0.59375    -0.29492188\n",
            " -0.13378906  0.27734375 -0.04174805  0.11621094  0.28320312  0.00241089\n",
            "  0.13867188 -0.00683594 -0.30078125  0.16210938  0.01171875 -0.13867188\n",
            "  0.48828125  0.02880859  0.02416992  0.04736328  0.05859375 -0.23828125\n",
            "  0.02758789  0.05981445 -0.03857422  0.06933594  0.14941406 -0.10888672\n",
            " -0.07324219  0.08789062  0.27148438  0.06591797 -0.37890625 -0.26171875\n",
            " -0.13183594  0.09570312 -0.3125      0.10205078  0.03063965  0.23632812\n",
            "  0.00582886  0.27734375  0.20507812 -0.17871094 -0.31445312 -0.01586914\n",
            "  0.13964844  0.13574219  0.0390625  -0.29296875  0.234375   -0.33984375\n",
            " -0.11816406  0.10644531 -0.18457031 -0.02099609  0.02563477  0.25390625\n",
            "  0.07275391  0.13574219 -0.00138092 -0.2578125  -0.2890625   0.10107422\n",
            "  0.19238281 -0.04882812  0.27929688 -0.3359375  -0.07373047  0.01879883\n",
            " -0.10986328 -0.04614258  0.15722656  0.06689453 -0.03417969  0.16308594\n",
            "  0.08642578  0.44726562  0.02026367 -0.01977539  0.07958984  0.17773438\n",
            " -0.04370117 -0.00952148  0.16503906  0.17285156  0.23144531 -0.04272461\n",
            "  0.02355957  0.18359375 -0.41601562 -0.01745605  0.16796875  0.04736328\n",
            "  0.14257812  0.08496094  0.33984375  0.1484375  -0.34375    -0.14160156\n",
            " -0.06835938 -0.14648438 -0.02844238  0.07421875 -0.07666016  0.12695312\n",
            "  0.05859375 -0.07568359 -0.03344727  0.23632812 -0.16308594  0.16503906\n",
            "  0.1484375  -0.2421875  -0.3515625  -0.30664062  0.00491333  0.17675781\n",
            "  0.46289062  0.14257812 -0.25       -0.25976562  0.04370117  0.34960938\n",
            "  0.05957031  0.07617188 -0.02868652 -0.09667969 -0.01281738  0.05859375\n",
            " -0.22949219 -0.1953125  -0.12207031  0.20117188 -0.42382812  0.06005859\n",
            "  0.50390625  0.20898438  0.11230469 -0.06054688  0.33203125  0.07421875\n",
            " -0.05786133  0.11083984 -0.06494141  0.05639648  0.01757812  0.08398438\n",
            "  0.13769531  0.2578125   0.16796875 -0.16894531  0.01794434  0.16015625\n",
            "  0.26171875  0.31640625 -0.24804688  0.05371094 -0.0859375   0.17089844\n",
            " -0.39453125 -0.00156403 -0.07324219 -0.04614258 -0.16210938 -0.15722656\n",
            "  0.21289062 -0.15820312  0.04394531  0.28515625  0.01196289 -0.26953125\n",
            " -0.04370117  0.37109375  0.04663086 -0.19726562  0.3046875  -0.36523438\n",
            " -0.23632812  0.08056641 -0.04248047 -0.14648438 -0.06225586 -0.0534668\n",
            " -0.05664062  0.18945312  0.37109375 -0.22070312  0.04638672  0.02612305\n",
            " -0.11474609  0.265625   -0.02453613  0.11083984 -0.02514648 -0.12060547\n",
            "  0.05297852  0.07128906  0.00063705 -0.36523438 -0.13769531 -0.12890625]\n"
          ]
        }
      ]
    },
    {
      "cell_type": "code",
      "execution_count": null,
      "metadata": {
        "id": "FcjlIR324FTv"
      },
      "outputs": [],
      "source": [
        "# Import Pretrained tokenizer.\n",
        "\n",
        "## Define an empty glove dictionary.\n",
        "glove_dict = {}\n",
        "line_coof = []\n",
        "line_word = []\n",
        "\n",
        "## Input word and value from glove text file.\n",
        "with open(glove_dir, 'r', encoding='utf-8') as gd:\n",
        "    for line in gd:\n",
        "        line = line.split()\n",
        "        line_word.append(line[0])\n",
        "        line_coof.append(line[1:])\n",
        "\n",
        "## test\n",
        "\n",
        "### Remove text strings and convert remaining values to float\n",
        "for line in line_coof:\n",
        "    filtered_data = [float(value) for value in line if isinstance(value, str) and value.replace('.', '', 1).isdigit()]\n",
        "\n",
        "print(filtered_data)\n",
        "\n",
        "\n",
        "# if line_coof:\n",
        "#     line_coof = np.array(line_coof, dtype=np.float32)\n",
        "#     glove_dict[line_word] = line_coof\n",
        "\n",
        "# ## Testing \n",
        "# train_words = train_df['question_text'][3]\n",
        "# print(f'Text \"{train_words}\" --> {[[glove_dict[word]] for word in train_words.split()]}')\n"
      ]
    },
    {
      "cell_type": "code",
      "source": [],
      "metadata": {
        "id": "eGGzfy0b84RW"
      },
      "execution_count": null,
      "outputs": []
    }
  ],
  "metadata": {
    "colab": {
      "provenance": [],
      "include_colab_link": true
    },
    "kernelspec": {
      "display_name": "Python 3",
      "language": "python",
      "name": "python3"
    },
    "language_info": {
      "codemirror_mode": {
        "name": "ipython",
        "version": 3
      },
      "file_extension": ".py",
      "mimetype": "text/x-python",
      "name": "python",
      "nbconvert_exporter": "python",
      "pygments_lexer": "ipython3",
      "version": "3.10.10"
    }
  },
  "nbformat": 4,
  "nbformat_minor": 0
}