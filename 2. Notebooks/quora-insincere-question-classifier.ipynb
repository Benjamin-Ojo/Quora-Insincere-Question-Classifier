{
 "cells": [
  {
   "cell_type": "markdown",
   "id": "b75e40a9",
   "metadata": {
    "papermill": {
     "duration": 0.00307,
     "end_time": "2023-05-23T03:50:41.654065",
     "exception": false,
     "start_time": "2023-05-23T03:50:41.650995",
     "status": "completed"
    },
    "tags": []
   },
   "source": [
    "# **Project: Quora Insincere Question Classifier**\n",
    "---"
   ]
  },
  {
   "cell_type": "markdown",
   "id": "cf30e542",
   "metadata": {
    "papermill": {
     "duration": 0.002919,
     "end_time": "2023-05-23T03:50:41.659864",
     "exception": false,
     "start_time": "2023-05-23T03:50:41.656945",
     "status": "completed"
    },
    "tags": []
   },
   "source": [
    "## **Introduction** \n",
    "--- \n",
    "\n",
    "\n"
   ]
  },
  {
   "cell_type": "markdown",
   "id": "c1c903e3",
   "metadata": {
    "papermill": {
     "duration": 0.002778,
     "end_time": "2023-05-23T03:50:41.666054",
     "exception": false,
     "start_time": "2023-05-23T03:50:41.663276",
     "status": "completed"
    },
    "tags": []
   },
   "source": [
    "### Background: "
   ]
  },
  {
   "cell_type": "markdown",
   "id": "2dfc139a",
   "metadata": {
    "papermill": {
     "duration": 0.002353,
     "end_time": "2023-05-23T03:50:41.670972",
     "exception": false,
     "start_time": "2023-05-23T03:50:41.668619",
     "status": "completed"
    },
    "tags": []
   },
   "source": [
    "In today's digital age, social platforms have become hubs for information sharing and community engagement. Quora, one such platform, provides users with a platform to ask questions and receive answers from a diverse community. However, as with any open forum, there is a potential for misuse, where users may pose insincere or deceptive questions.\n",
    "\n",
    "The classification of insincere questions is a significant challenge in natural language processing (NLP). It requires the ability to discern the underlying intent and identify questions that may be misleading, inflammatory, or offensive. Accurately detecting and categorizing these insincere questions is crucial to maintaining the quality and credibility of a platform like Quora.\n",
    "\n",
    "In this project, we delve into the task of insincere question classification on Quora, using machine learning and NLP techniques. Our objective is to develop a robust and efficient model that can automatically differentiate between sincere and insincere questions."
   ]
  },
  {
   "cell_type": "markdown",
   "id": "05c7c1eb",
   "metadata": {
    "papermill": {
     "duration": 0.002626,
     "end_time": "2023-05-23T03:50:41.677110",
     "exception": false,
     "start_time": "2023-05-23T03:50:41.674484",
     "status": "completed"
    },
    "tags": []
   },
   "source": [
    "### Dataset:"
   ]
  },
  {
   "cell_type": "markdown",
   "id": "4e69b076",
   "metadata": {
    "papermill": {
     "duration": 0.002383,
     "end_time": "2023-05-23T03:50:41.682245",
     "exception": false,
     "start_time": "2023-05-23T03:50:41.679862",
     "status": "completed"
    },
    "tags": []
   },
   "source": [
    "For our insincerity quest, we will leverage the Quora Insincere Questions Classification dataset, which is publicly available on Kaggle. This dataset comprises a large collection of questions from Quora, along with corresponding labels indicating whether each question is sincere or insincere. The dataset is annotated by human reviewers, providing valuable ground truth for training and evaluation purposes.\n",
    "\n",
    "Our dataset are divided into training and testing dataset.The data contains the following columns: \n",
    "\n",
    "1. **qid**: This is a unique number for each of the question in our datasets. \n",
    "2. **question_text**: The full text of a Quora question. \n",
    "3. **target**: The label encoding on whether a question is sincere or not. "
   ]
  },
  {
   "cell_type": "markdown",
   "id": "3e142e19",
   "metadata": {
    "papermill": {
     "duration": 0.002341,
     "end_time": "2023-05-23T03:50:41.687255",
     "exception": false,
     "start_time": "2023-05-23T03:50:41.684914",
     "status": "completed"
    },
    "tags": []
   },
   "source": [
    "### Approachs: "
   ]
  },
  {
   "cell_type": "markdown",
   "id": "9c21f96f",
   "metadata": {
    "papermill": {
     "duration": 0.002452,
     "end_time": "2023-05-23T03:50:41.692365",
     "exception": false,
     "start_time": "2023-05-23T03:50:41.689913",
     "status": "completed"
    },
    "tags": []
   },
   "source": [
    "To tackle this problem, we will adopt a supervised learning approach. We will explore various NLP techniques to build a classification model that can effectively distinguish between sincere and insincere questions. This will involve several key steps:\n",
    "\n",
    "1. Data Collection: The Quora Insincere Questions Classification dataset is collected and downloaded from Kaggle. The dataset will be imported and processed using Google Colab. The data structures and features will be explored to gain a better understanding of the dataset.\n",
    "\n",
    "2. Data Preprocessing: Text data is preprocessed by tokenization, lowercasing, and removal of stop words and punctuation. Techniques like stemming or lemmatization may be applied for further normalization.\n",
    "\n",
    "3. Feature Extraction: The preprocessed text data will be transformed into numerical representations suitable for machine learning algorithms. For this project, we will be using word embeddings, such as Word2Vec or GloVe, to convert the text into dense vector representations that capture semantic relationships between words.\n",
    "\n",
    "4. Model Selection and Training: For this project, we will explore various NLP models suitable for insincere question classification, such as recurrent neural networks (RNNs), convolutional neural networks (CNNs), or transformer models like BERT. These models have shown promising results in NLP tasks and can capture complex patterns and dependencies in text data. We will select the most appropriate model based on its performance on the validation dataset and train it using the labeled training dataset.\n",
    "\n",
    "5. Model Evaluation: The trained NLP model will be evaluated using appropriate evaluation metrics, such as accuracy, precision, recall, and F1-score. The performance of the model will be assessed on the test dataset.\n",
    "\n"
   ]
  },
  {
   "cell_type": "markdown",
   "id": "7d6820ab",
   "metadata": {
    "papermill": {
     "duration": 0.002313,
     "end_time": "2023-05-23T03:50:41.697244",
     "exception": false,
     "start_time": "2023-05-23T03:50:41.694931",
     "status": "completed"
    },
    "tags": []
   },
   "source": [
    "### Importing Packages:"
   ]
  },
  {
   "cell_type": "code",
   "execution_count": 1,
   "id": "409959c8",
   "metadata": {
    "execution": {
     "iopub.execute_input": "2023-05-23T03:50:41.705027Z",
     "iopub.status.busy": "2023-05-23T03:50:41.704316Z",
     "iopub.status.idle": "2023-05-23T03:50:50.260258Z",
     "shell.execute_reply": "2023-05-23T03:50:50.259412Z"
    },
    "papermill": {
     "duration": 8.56225,
     "end_time": "2023-05-23T03:50:50.262032",
     "exception": true,
     "start_time": "2023-05-23T03:50:41.699782",
     "status": "failed"
    },
    "tags": []
   },
   "outputs": [
    {
     "name": "stderr",
     "output_type": "stream",
     "text": [
      "/opt/conda/lib/python3.10/site-packages/scipy/__init__.py:146: UserWarning: A NumPy version >=1.16.5 and <1.23.0 is required for this version of SciPy (detected version 1.23.5\n",
      "  warnings.warn(f\"A NumPy version >={np_minversion} and <{np_maxversion}\"\n",
      "UsageError: Line magic function `%` not found.\n"
     ]
    }
   ],
   "source": [
    "# Data manipution packages. \n",
    "import pandas as pd\n",
    "import numpy as np\n",
    "\n",
    "# Data visualization packages.\n",
    "import matplotlib.pyplot as plt\n",
    "import seaborn as sns\n",
    "\n",
    "# File manager packages.\n",
    "import os\n",
    "import shutil\n",
    "\n",
    "# Tensoflow packages.\n",
    "import tensorflow as tf\n",
    "from tensorflow import keras\n",
    "from keras.layers import Flatten, Conv1D, MaxPooling1D, Bidirectional, LSTM, RNN, GRU, Dropout\n",
    "from keras.preprocessing.text import Tokenizer\n",
    "from keras.models import Sequential, Model\n",
    "\n",
    "# Other packages.\n",
    "% matplotlib inline\n",
    "\n",
    "\n"
   ]
  },
  {
   "cell_type": "markdown",
   "id": "24b16ffe",
   "metadata": {
    "papermill": {
     "duration": null,
     "end_time": null,
     "exception": null,
     "start_time": null,
     "status": "pending"
    },
    "tags": []
   },
   "source": [
    "## **Data Collecion**\n",
    "---"
   ]
  },
  {
   "cell_type": "code",
   "execution_count": null,
   "id": "b866de5f",
   "metadata": {
    "_cell_guid": "b1076dfc-b9ad-4769-8c92-a6c4dae69d19",
    "_uuid": "8f2839f25d086af736a60e9eeb907d3b93b6e0e5",
    "execution": {
     "iopub.execute_input": "2023-05-19T23:36:20.095754Z",
     "iopub.status.busy": "2023-05-19T23:36:20.095316Z",
     "iopub.status.idle": "2023-05-19T23:36:20.139273Z",
     "shell.execute_reply": "2023-05-19T23:36:20.137987Z",
     "shell.execute_reply.started": "2023-05-19T23:36:20.095722Z"
    },
    "papermill": {
     "duration": null,
     "end_time": null,
     "exception": null,
     "start_time": null,
     "status": "pending"
    },
    "tags": []
   },
   "outputs": [],
   "source": [
    "# This Python 3 environment comes with many helpful analytics libraries installed\n",
    "# It is defined by the kaggle/python Docker image: https://github.com/kaggle/docker-python\n",
    "# For example, here's several helpful packages to load\n",
    "\n",
    "import numpy as np # linear algebra\n",
    "import pandas as pd # data processing, CSV file I/O (e.g. pd.read_csv)\n",
    "\n",
    "# Input data files are available in the read-only \"../input/\" directory\n",
    "# For example, running this (by clicking run or pressing Shift+Enter) will list all files under the input directory\n",
    "\n",
    "import os\n",
    "for dirname, _, filenames in os.walk('/kaggle/input'):\n",
    "    for filename in filenames:\n",
    "        print(os.path.join(dirname, filename))\n",
    "\n",
    "# You can write up to 20GB to the current directory (/kaggle/working/) that gets preserved as output when you create a version using \"Save & Run All\" \n",
    "# You can also write temporary files to /kaggle/temp/, but they won't be saved outside of the current session"
   ]
  }
 ],
 "metadata": {
  "kernelspec": {
   "display_name": "Python 3",
   "language": "python",
   "name": "python3"
  },
  "language_info": {
   "codemirror_mode": {
    "name": "ipython",
    "version": 3
   },
   "file_extension": ".py",
   "mimetype": "text/x-python",
   "name": "python",
   "nbconvert_exporter": "python",
   "pygments_lexer": "ipython3",
   "version": "3.10.10"
  },
  "papermill": {
   "default_parameters": {},
   "duration": 21.499884,
   "end_time": "2023-05-23T03:50:53.171641",
   "environment_variables": {},
   "exception": true,
   "input_path": "__notebook__.ipynb",
   "output_path": "__notebook__.ipynb",
   "parameters": {},
   "start_time": "2023-05-23T03:50:31.671757",
   "version": "2.4.0"
  }
 },
 "nbformat": 4,
 "nbformat_minor": 5
}
